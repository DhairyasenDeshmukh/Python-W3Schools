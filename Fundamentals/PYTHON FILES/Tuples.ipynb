{
 "cells": [
  {
   "cell_type": "code",
   "execution_count": 0,
   "metadata": {
    "application/vnd.databricks.v1+cell": {
     "cellMetadata": {
      "byteLimit": 2048000,
      "rowLimit": 10000
     },
     "inputWidgets": {},
     "nuid": "222a7fef-52da-4a61-a217-fc005c6752b2",
     "showTitle": false,
     "tableResultSettingsMap": {},
     "title": ""
    }
   },
   "outputs": [
    {
     "output_type": "stream",
     "name": "stdout",
     "output_type": "stream",
     "text": [
      "<class 'tuple'>\nTuple:  ('Earth', 'Mars', 'Jupiter', 'Earth', 'Saturn', 'Uranus')\n6\nTuple without comma:  Vrush\nTuple with comma:  ('Vrush',)\n"
     ]
    }
   ],
   "source": [
    "# Tuple syntax and type\n",
    "planets = (\"Earth\", \"Mars\", \"Jupiter\", \"Earth\", \"Saturn\", \"Uranus\")\n",
    "print(type(planets))\n",
    "print(\"Tuple: \",planets)\n",
    "print(len(planets))\n",
    "\n",
    "# Tuple with one item\n",
    "name = (\"Vrush\")\n",
    "print(\"Tuple without comma: \",name)\n",
    "name = (\"Vrush\",)\n",
    "print(\"Tuple with comma: \", name)"
   ]
  },
  {
   "cell_type": "markdown",
   "metadata": {
    "application/vnd.databricks.v1+cell": {
     "cellMetadata": {},
     "inputWidgets": {},
     "nuid": "57fb5ae6-6cd2-442c-b133-e67160b26f9a",
     "showTitle": false,
     "tableResultSettingsMap": {},
     "title": ""
    }
   },
   "source": [
    "### ACCESS TUPLES"
   ]
  },
  {
   "cell_type": "code",
   "execution_count": 0,
   "metadata": {
    "application/vnd.databricks.v1+cell": {
     "cellMetadata": {
      "byteLimit": 2048000,
      "rowLimit": 10000
     },
     "inputWidgets": {},
     "nuid": "77e6cebd-5639-4bb1-a05a-ff290cc4f648",
     "showTitle": false,
     "tableResultSettingsMap": {},
     "title": ""
    }
   },
   "outputs": [
    {
     "output_type": "stream",
     "name": "stdout",
     "output_type": "stream",
     "text": [
      "789 123\n369 258\nTrue\n"
     ]
    }
   ],
   "source": [
    "# Access the items via index\n",
    "index = (789,465,123,147,258,369)\n",
    "print(index[0],index[2])\n",
    "print(index[-1],index[-2])\n",
    "\n",
    "# Check if Item Exists\n",
    "if 789 in index:\n",
    "    print(True)\n",
    "else:\n",
    "    print(False)"
   ]
  },
  {
   "cell_type": "markdown",
   "metadata": {
    "application/vnd.databricks.v1+cell": {
     "cellMetadata": {},
     "inputWidgets": {},
     "nuid": "a97bea1b-c97b-46fd-8cf5-752abfacb645",
     "showTitle": false,
     "tableResultSettingsMap": {},
     "title": ""
    }
   },
   "source": [
    "### UPDATING TUPLES"
   ]
  },
  {
   "cell_type": "code",
   "execution_count": 0,
   "metadata": {
    "application/vnd.databricks.v1+cell": {
     "cellMetadata": {
      "byteLimit": 2048000,
      "rowLimit": 10000
     },
     "inputWidgets": {},
     "nuid": "61f60bf2-483d-4098-b71a-8f3bf0d01896",
     "showTitle": false,
     "tableResultSettingsMap": {},
     "title": ""
    }
   },
   "outputs": [
    {
     "output_type": "stream",
     "name": "stdout",
     "output_type": "stream",
     "text": [
      "('apple', 'banana', 'cherry', 'papaya')\n('apple', 'banana', 'cherry', 'papaya')\n('apple', 'banana', 'cherry', 'papaya', 'chiku')\n('banana', 'cherry', 'papaya', 'chiku')\n"
     ]
    },
    {
     "output_type": "display_data",
     "data": {
      "text/plain": [
       "\u001B[0;31m---------------------------------------------------------------------------\u001B[0m\n",
       "\u001B[0;31mNameError\u001B[0m                                 Traceback (most recent call last)\n",
       "File \u001B[0;32m<command-4774327240141732>, line 22\u001B[0m\n",
       "\u001B[1;32m     20\u001B[0m \u001B[38;5;66;03m# Deleting complete tuple variable\u001B[39;00m\n",
       "\u001B[1;32m     21\u001B[0m \u001B[38;5;28;01mdel\u001B[39;00m x\n",
       "\u001B[0;32m---> 22\u001B[0m \u001B[38;5;28mprint\u001B[39m(x)\n",
       "\n",
       "\u001B[0;31mNameError\u001B[0m: name 'x' is not defined"
      ]
     },
     "metadata": {
      "application/vnd.databricks.v1+output": {
       "addedWidgets": {},
       "arguments": {},
       "datasetInfos": [],
       "jupyterProps": {
        "ename": "NameError",
        "evalue": "name 'x' is not defined"
       },
       "metadata": {
        "errorSummary": "<span class='ansi-red-fg'>NameError</span>: name 'x' is not defined"
       },
       "removedWidgets": [],
       "sqlProps": null,
       "stackFrames": [
        "\u001B[0;31m---------------------------------------------------------------------------\u001B[0m",
        "\u001B[0;31mNameError\u001B[0m                                 Traceback (most recent call last)",
        "File \u001B[0;32m<command-4774327240141732>, line 22\u001B[0m\n\u001B[1;32m     20\u001B[0m \u001B[38;5;66;03m# Deleting complete tuple variable\u001B[39;00m\n\u001B[1;32m     21\u001B[0m \u001B[38;5;28;01mdel\u001B[39;00m x\n\u001B[0;32m---> 22\u001B[0m \u001B[38;5;28mprint\u001B[39m(x)\n",
        "\u001B[0;31mNameError\u001B[0m: name 'x' is not defined"
       ],
       "type": "baseError"
      }
     },
     "output_type": "display_data"
    }
   ],
   "source": [
    "# Adding items to tuple\n",
    "x = (\"apple\", \"banana\", \"cherry\")\n",
    "y = list(x)\n",
    "y.append(\"papaya\")\n",
    "x = tuple(y)\n",
    "print(x)\n",
    "\n",
    "# Adding two tuples\n",
    "print(x)\n",
    "z = tuple((\"chiku\",))\n",
    "x = x + z\n",
    "print(x)\n",
    "\n",
    "# Remove items from tuple\n",
    "y = list(x)\n",
    "y.remove(\"apple\")\n",
    "x = tuple(y)\n",
    "print(x)\n",
    "\n",
    "# Deleting complete tuple variable\n",
    "del x\n",
    "print(x)"
   ]
  },
  {
   "cell_type": "markdown",
   "metadata": {
    "application/vnd.databricks.v1+cell": {
     "cellMetadata": {},
     "inputWidgets": {},
     "nuid": "6a052b7d-50d1-4fdc-b6b8-3245301131ec",
     "showTitle": false,
     "tableResultSettingsMap": {},
     "title": ""
    }
   },
   "source": [
    "### UNPACKING"
   ]
  },
  {
   "cell_type": "code",
   "execution_count": 0,
   "metadata": {
    "application/vnd.databricks.v1+cell": {
     "cellMetadata": {
      "byteLimit": 2048000,
      "rowLimit": 10000
     },
     "inputWidgets": {},
     "nuid": "9902470c-78c8-47fd-a2a6-674942cd4de3",
     "showTitle": false,
     "tableResultSettingsMap": {},
     "title": ""
    }
   },
   "outputs": [
    {
     "output_type": "stream",
     "name": "stdout",
     "output_type": "stream",
     "text": [
      "apple orange grapes\napple\nbanana\n['cherry', 'strawberry', 'raspberry']\ngrapes\n['mango', 'papaya', 'pineapple']\ncherry\n"
     ]
    }
   ],
   "source": [
    "# Unpacking \n",
    "fruits = (\"apple\", \"orange\", \"grapes\")\n",
    "(red, orange, green) = fruits\n",
    "print(red, orange, green)\n",
    "\n",
    "# Using Asterisk for remaining items\n",
    "fruits = (\"apple\", \"banana\", \"cherry\", \"strawberry\", \"raspberry\")\n",
    "(green, yellow, *red) = fruits\n",
    "print(green)\n",
    "print(yellow)\n",
    "print(red)\n",
    "\n",
    "# Using Asterisk for middle items\n",
    "fruits = (\"grapes\", \"mango\", \"papaya\", \"pineapple\", \"cherry\")\n",
    "(green, *tropical, red) = fruits\n",
    "print(green)\n",
    "print(tropical)\n",
    "print(red)"
   ]
  },
  {
   "cell_type": "markdown",
   "metadata": {
    "application/vnd.databricks.v1+cell": {
     "cellMetadata": {},
     "inputWidgets": {},
     "nuid": "95ba185e-0ce7-48ea-85b5-c1f34996a855",
     "showTitle": false,
     "tableResultSettingsMap": {},
     "title": ""
    }
   },
   "source": [
    "### LOOP TUPLES"
   ]
  },
  {
   "cell_type": "code",
   "execution_count": 0,
   "metadata": {
    "application/vnd.databricks.v1+cell": {
     "cellMetadata": {
      "byteLimit": 2048000,
      "rowLimit": 10000
     },
     "inputWidgets": {},
     "nuid": "dc9c6ec3-5dd0-482a-a6d6-ade26809beb1",
     "showTitle": false,
     "tableResultSettingsMap": {},
     "title": ""
    }
   },
   "outputs": [
    {
     "output_type": "stream",
     "name": "stdout",
     "output_type": "stream",
     "text": [
      "apple\nbanana\ncherry\nstrawberry\nraspberry\napple\nbanana\ncherry\nstrawberry\nraspberry\napple\nbanana\ncherry\nstrawberry\nraspberry\n('a', 'b', 'c', 1, 2, 3)\n('apple', 'banana', 'cherry', 'apple', 'banana', 'cherry')\n"
     ]
    }
   ],
   "source": [
    "# Loop tuple using normal loop\n",
    "fruits = (\"apple\", \"banana\", \"cherry\", \"strawberry\", \"raspberry\")\n",
    "for x in fruits:\n",
    "    print(x)\n",
    "\n",
    "# Loop tuple using index\n",
    "for i in range(len(fruits)):\n",
    "    print(fruits[i])\n",
    "\n",
    "# Loop tuple using while loop\n",
    "i = 0\n",
    "while i < len(fruits):\n",
    "    print(fruits[i])\n",
    "    i += 1\n",
    "\n",
    "# Join two tuples\n",
    "tuple1 = (\"a\", \"b\" , \"c\")\n",
    "tuple2 = (1, 2, 3)\n",
    "tuple3 = tuple1 + tuple2\n",
    "print(tuple3)\n",
    "\n",
    "# Multiply tuple\n",
    "fruits = (\"apple\", \"banana\", \"cherry\")\n",
    "mytuple = fruits * 2\n",
    "print(mytuple)"
   ]
  }
 ],
 "metadata": {
  "application/vnd.databricks.v1+notebook": {
   "computePreferences": null,
   "dashboards": [],
   "environmentMetadata": {
    "base_environment": "",
    "environment_version": "3"
   },
   "inputWidgetPreferences": null,
   "language": "python",
   "notebookMetadata": {
    "pythonIndentUnit": 4
   },
   "notebookName": "Tuples",
   "widgets": {}
  },
  "language_info": {
   "name": "python"
  }
 },
 "nbformat": 4,
 "nbformat_minor": 0
}