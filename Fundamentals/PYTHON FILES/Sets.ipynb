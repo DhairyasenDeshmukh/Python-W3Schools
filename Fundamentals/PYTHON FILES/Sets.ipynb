{
 "cells": [
  {
   "cell_type": "markdown",
   "metadata": {
    "application/vnd.databricks.v1+cell": {
     "cellMetadata": {},
     "inputWidgets": {},
     "nuid": "d009524c-4749-4fa0-a07f-d53818c51d51",
     "showTitle": false,
     "tableResultSettingsMap": {},
     "title": ""
    },
    "jupyter": {
     "outputs_hidden": true
    }
   },
   "source": [
    "SETS"
   ]
  },
  {
   "cell_type": "code",
   "execution_count": 0,
   "metadata": {
    "application/vnd.databricks.v1+cell": {
     "cellMetadata": {
      "byteLimit": 2048000,
      "rowLimit": 10000
     },
     "inputWidgets": {},
     "nuid": "658955a1-b5ee-4760-862a-88239978fa8a",
     "showTitle": false,
     "tableResultSettingsMap": {},
     "title": ""
    }
   },
   "outputs": [
    {
     "output_type": "stream",
     "name": "stdout",
     "output_type": "stream",
     "text": [
      "{'Maurice Meek', 'Myrtel Meek', 'Meredith Meek'}\n{1, 2, 3, 4, 5}\n{False, True, 2}\n3\n<class 'set'>\n{'Ronald', 'Sevrus', 'Geenie', 'Harry'}\n"
     ]
    }
   ],
   "source": [
    "# Set Syntax\n",
    "Meeks = {\"Myrtel Meek\", \"Maurice Meek\", \"Meredith Meek\"}\n",
    "print(Meeks)\n",
    "\n",
    "# Ignoring Duplicates\n",
    "Num = {1,2,3,4,5,5,4,3,2,1}\n",
    "print(Num)\n",
    "\n",
    "# True and 1 are considered same value.\n",
    "duplicate = {False, 0, True, 1 ,2 ,2}\n",
    "print(duplicate)\n",
    "\n",
    "# Length of set\n",
    "print(len(Meeks))\n",
    "\n",
    "# Type of set\n",
    "print(type(Meeks))\n",
    "\n",
    "# Set Constructor\n",
    "hogwarts = set((\"Harry\", \"Geenie\", \"Ronald\", \"Sevrus\"))\n",
    "print(hogwarts)\n",
    "\n"
   ]
  },
  {
   "cell_type": "markdown",
   "metadata": {
    "application/vnd.databricks.v1+cell": {
     "cellMetadata": {},
     "inputWidgets": {},
     "nuid": "1da83adc-540c-4495-92b9-675f99996396",
     "showTitle": false,
     "tableResultSettingsMap": {},
     "title": ""
    }
   },
   "source": [
    "ACCESSING SET ITEMS"
   ]
  },
  {
   "cell_type": "code",
   "execution_count": 0,
   "metadata": {
    "application/vnd.databricks.v1+cell": {
     "cellMetadata": {
      "byteLimit": 2048000,
      "rowLimit": 10000
     },
     "inputWidgets": {},
     "nuid": "d0bc0868-baf7-4490-9e8a-2479f27ee0f0",
     "showTitle": false,
     "tableResultSettingsMap": {},
     "title": ""
    }
   },
   "outputs": [
    {
     "output_type": "stream",
     "name": "stdout",
     "output_type": "stream",
     "text": [
      "2\n4\n6\n8\n10\nTrue\nFalse\n"
     ]
    }
   ],
   "source": [
    "# Accessing items\n",
    "num = {1,2,3,4,5,6,7,8,9,10}\n",
    "for i in num:\n",
    "    if i % 2 == 0:\n",
    "        print(i)\n",
    "\n",
    "# Checking if an Item is in the set\n",
    "print(5 in num)\n",
    "print(11 in num)"
   ]
  },
  {
   "cell_type": "markdown",
   "metadata": {
    "application/vnd.databricks.v1+cell": {
     "cellMetadata": {},
     "inputWidgets": {},
     "nuid": "94c89966-9b39-4000-903a-8f6d9564ba63",
     "showTitle": false,
     "tableResultSettingsMap": {},
     "title": ""
    }
   },
   "source": [
    "ADDING NEW ITEMS"
   ]
  },
  {
   "cell_type": "code",
   "execution_count": 0,
   "metadata": {
    "application/vnd.databricks.v1+cell": {
     "cellMetadata": {
      "byteLimit": 2048000,
      "rowLimit": 10000
     },
     "inputWidgets": {},
     "nuid": "d30d57e4-7c60-4b97-920f-7591a37dcb0d",
     "showTitle": false,
     "tableResultSettingsMap": {},
     "title": ""
    }
   },
   "outputs": [
    {
     "output_type": "stream",
     "name": "stdout",
     "output_type": "stream",
     "text": [
      "{1, 2, 3}\n{1, 2, 3, 4}\n{1, 2, 3, 4, 5, 6, 7}\n{1, 2, 3, 4, 5, 6, 7, 8, 9, 10}\n"
     ]
    }
   ],
   "source": [
    "set_1 = {1,2,3}\n",
    "print(set_1)\n",
    "# Adding new item to set\n",
    "set_1.add(4)\n",
    "print(set_1)\n",
    "# Adding multiple sets\n",
    "set_2 = {5,6,7}\n",
    "set_1.update(set_2)\n",
    "print(set_1)\n",
    "# Adding multiple items to set\n",
    "set_1.update({8,9,10})\n",
    "print(set_1)"
   ]
  },
  {
   "cell_type": "markdown",
   "metadata": {
    "application/vnd.databricks.v1+cell": {
     "cellMetadata": {},
     "inputWidgets": {},
     "nuid": "94ab4454-b37c-480a-b493-f89f644481d2",
     "showTitle": false,
     "tableResultSettingsMap": {},
     "title": ""
    }
   },
   "source": [
    "REMOVING ITEMS FROM THE SET"
   ]
  },
  {
   "cell_type": "code",
   "execution_count": 0,
   "metadata": {
    "application/vnd.databricks.v1+cell": {
     "cellMetadata": {
      "byteLimit": 2048000,
      "rowLimit": 10000
     },
     "inputWidgets": {},
     "nuid": "9167c020-2f80-4d7c-bfd2-6173c3b5a285",
     "showTitle": false,
     "tableResultSettingsMap": {},
     "title": ""
    }
   },
   "outputs": [
    {
     "output_type": "stream",
     "name": "stdout",
     "output_type": "stream",
     "text": [
      "{1, 2, 3, 4, 5, 6, 7, 8, 9, 10}\n{2, 3, 4, 5, 6, 7, 8, 9, 10}\n{3, 4, 5, 6, 7, 8, 9, 10}\n{4, 5, 6, 7, 8, 9, 10}\nset()\n"
     ]
    },
    {
     "output_type": "display_data",
     "data": {
      "text/plain": [
       "\u001B[0;31m---------------------------------------------------------------------------\u001B[0m\n",
       "\u001B[0;31mNameError\u001B[0m                                 Traceback (most recent call last)\n",
       "File \u001B[0;32m<command-6726732897270185>, line 17\u001B[0m\n",
       "\u001B[1;32m     15\u001B[0m \u001B[38;5;66;03m# Delete the set\u001B[39;00m\n",
       "\u001B[1;32m     16\u001B[0m \u001B[38;5;28;01mdel\u001B[39;00m num\n",
       "\u001B[0;32m---> 17\u001B[0m \u001B[38;5;28mprint\u001B[39m(num)\n",
       "\n",
       "\u001B[0;31mNameError\u001B[0m: name 'num' is not defined"
      ]
     },
     "metadata": {
      "application/vnd.databricks.v1+output": {
       "addedWidgets": {},
       "arguments": {},
       "datasetInfos": [],
       "jupyterProps": {
        "ename": "NameError",
        "evalue": "name 'num' is not defined"
       },
       "metadata": {
        "errorSummary": "<span class='ansi-red-fg'>NameError</span>: name 'num' is not defined"
       },
       "removedWidgets": [],
       "sqlProps": null,
       "stackFrames": [
        "\u001B[0;31m---------------------------------------------------------------------------\u001B[0m",
        "\u001B[0;31mNameError\u001B[0m                                 Traceback (most recent call last)",
        "File \u001B[0;32m<command-6726732897270185>, line 17\u001B[0m\n\u001B[1;32m     15\u001B[0m \u001B[38;5;66;03m# Delete the set\u001B[39;00m\n\u001B[1;32m     16\u001B[0m \u001B[38;5;28;01mdel\u001B[39;00m num\n\u001B[0;32m---> 17\u001B[0m \u001B[38;5;28mprint\u001B[39m(num)\n",
        "\u001B[0;31mNameError\u001B[0m: name 'num' is not defined"
       ],
       "type": "baseError"
      }
     },
     "output_type": "display_data"
    }
   ],
   "source": [
    "num = {1,2,3,4,5,6,7,8,9,10}\n",
    "print(num)\n",
    "# Remove an item\n",
    "num.remove(1)\n",
    "print(num)\n",
    "# Remove an item using discard\n",
    "num.discard(2)\n",
    "print(num)\n",
    "# Remove using pop\n",
    "num.pop()\n",
    "print(num)\n",
    "# Remove all items\n",
    "num.clear()\n",
    "print(num)\n",
    "# Delete the set\n",
    "del num\n",
    "print(num)"
   ]
  },
  {
   "cell_type": "markdown",
   "metadata": {
    "application/vnd.databricks.v1+cell": {
     "cellMetadata": {},
     "inputWidgets": {},
     "nuid": "0fc9c825-1ee0-44c5-942d-8390a6ee00c3",
     "showTitle": false,
     "tableResultSettingsMap": {},
     "title": ""
    }
   },
   "source": [
    "JOINS"
   ]
  },
  {
   "cell_type": "code",
   "execution_count": 0,
   "metadata": {
    "application/vnd.databricks.v1+cell": {
     "cellMetadata": {
      "byteLimit": 2048000,
      "rowLimit": 10000
     },
     "inputWidgets": {},
     "nuid": "aa342021-65df-4ad0-8d25-cea7e4908244",
     "showTitle": false,
     "tableResultSettingsMap": {},
     "title": ""
    }
   },
   "outputs": [
    {
     "output_type": "stream",
     "name": "stdout",
     "output_type": "stream",
     "text": [
      "{1, 2, 3, 4, 5, 6, 7, 8, 9, 10}\n{1, 2, 3, 4, 5, 6, 7, 8, 9, 10}\n{3, 4, 5}\n{1, 2}\n"
     ]
    },
    {
     "output_type": "execute_result",
     "data": {
      "text/plain": [
       "{6, 7, 8, 9, 10}"
      ]
     },
     "execution_count": 22,
     "metadata": {},
     "output_type": "execute_result"
    }
   ],
   "source": [
    "# Default Sets\n",
    "set_1 = {1,2,3,4,5}\n",
    "set_2 = {3,4,5,6,7,8,9,10}\n",
    "# Join by Union\n",
    "_union = set_1.union(set_2)\n",
    "print(_union)\n",
    "# Joining by update\n",
    "set_1.update(set_2)\n",
    "print(set_1)\n",
    "set_1 = {1,2,3,4,5} # Reset set_1 values\n",
    "# Join by intersection\n",
    "_intersection = set_1.intersection(set_2)\n",
    "print(_intersection)\n",
    "# Difference of sets\n",
    "_difference = set_1.difference(set_2)\n",
    "print(_difference)\n",
    "set_2 - set_1"
   ]
  }
 ],
 "metadata": {
  "application/vnd.databricks.v1+notebook": {
   "computePreferences": null,
   "dashboards": [],
   "environmentMetadata": {
    "base_environment": "",
    "environment_version": "3"
   },
   "inputWidgetPreferences": null,
   "language": "python",
   "notebookMetadata": {
    "pythonIndentUnit": 4
   },
   "notebookName": "Sets",
   "widgets": {}
  },
  "language_info": {
   "name": "python"
  }
 },
 "nbformat": 4,
 "nbformat_minor": 0
}