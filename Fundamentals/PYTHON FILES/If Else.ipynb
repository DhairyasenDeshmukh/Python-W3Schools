{
 "cells": [
  {
   "cell_type": "markdown",
   "metadata": {
    "application/vnd.databricks.v1+cell": {
     "cellMetadata": {},
     "inputWidgets": {},
     "nuid": "eec64d5c-43e9-4fdd-9139-2637167ceef1",
     "showTitle": false,
     "tableResultSettingsMap": {},
     "title": ""
    }
   },
   "source": [
    "IF ELSE"
   ]
  },
  {
   "cell_type": "code",
   "execution_count": 0,
   "metadata": {
    "application/vnd.databricks.v1+cell": {
     "cellMetadata": {
      "byteLimit": 2048000,
      "rowLimit": 10000
     },
     "inputWidgets": {},
     "nuid": "bd38f3a8-34ce-4336-99e7-7612940f61a6",
     "showTitle": false,
     "tableResultSettingsMap": {},
     "title": ""
    }
   },
   "outputs": [
    {
     "output_type": "stream",
     "name": "stdout",
     "output_type": "stream",
     "text": [
      "Ultrawide Present\nAcer Absent\nNitrus Present\n"
     ]
    }
   ],
   "source": [
    "# Simple If statement\n",
    "text = \"I am buying an Nitrus Ultrawide monitor\"\n",
    "if \"Ultrawide\" in text:\n",
    "  print(\"Ultrawide Present\")\n",
    "# Else statement\n",
    "if \"Acer\" in text:\n",
    "  print(\"Acer Present\")\n",
    "else:\n",
    "  print(\"Acer Absent\")\n",
    "#Elif\n",
    "if \"Acer\" in text:\n",
    "  print(\"Acer Present\")\n",
    "elif \"Nitrus\" in text:\n",
    "  print(\"Nitrus Present\")\n",
    "else:\n",
    "  print(\"Absent\")"
   ]
  },
  {
   "cell_type": "markdown",
   "metadata": {
    "application/vnd.databricks.v1+cell": {
     "cellMetadata": {},
     "inputWidgets": {},
     "nuid": "40f146fd-c56f-4cf1-b70d-a4666f6dc8f1",
     "showTitle": false,
     "tableResultSettingsMap": {},
     "title": ""
    }
   },
   "source": [
    "TERNARY OPERATORS"
   ]
  },
  {
   "cell_type": "code",
   "execution_count": 0,
   "metadata": {
    "application/vnd.databricks.v1+cell": {
     "cellMetadata": {
      "byteLimit": 2048000,
      "rowLimit": 10000
     },
     "inputWidgets": {},
     "nuid": "e91d40bd-f51d-47ab-a7df-aa1f5968fd71",
     "showTitle": false,
     "tableResultSettingsMap": {},
     "title": ""
    }
   },
   "outputs": [
    {
     "output_type": "display_data",
     "data": {
      "text/plain": [
       "Enter digit 1 - 30:  5"
      ]
     },
     "metadata": {},
     "output_type": "display_data"
    },
    {
     "output_type": "stream",
     "name": "stdout",
     "output_type": "stream",
     "text": [
      "5 Is prime\n"
     ]
    }
   ],
   "source": [
    "# Shorthand if\n",
    "prime = {2, 3, 5, 7, 11, 13, 17, 19, 23, 29}\n",
    "x = int(input(\"Enter digit 1 - 30: \"))\n",
    "if x in prime: print(x,\"Is prime\")"
   ]
  },
  {
   "cell_type": "code",
   "execution_count": 0,
   "metadata": {
    "application/vnd.databricks.v1+cell": {
     "cellMetadata": {
      "byteLimit": 2048000,
      "rowLimit": 10000
     },
     "inputWidgets": {},
     "nuid": "553cfb53-725e-4493-a15c-fe6e7f136f5a",
     "showTitle": false,
     "tableResultSettingsMap": {},
     "title": ""
    }
   },
   "outputs": [
    {
     "output_type": "display_data",
     "data": {
      "text/plain": [
       "Enter string(case sensitive):  america"
      ]
     },
     "metadata": {},
     "output_type": "display_data"
    },
    {
     "output_type": "stream",
     "name": "stdout",
     "output_type": "stream",
     "text": [
      "Present\n"
     ]
    }
   ],
   "source": [
    "# Shorthand if else\n",
    "intro = \"In 2077 they voted my city the worst place to live in america\"\n",
    "a = str(input(\"Enter string(case sensitive): \"))\n",
    "print(\"Present\") if a in intro else print(\"Absent\")"
   ]
  },
  {
   "cell_type": "code",
   "execution_count": 0,
   "metadata": {
    "application/vnd.databricks.v1+cell": {
     "cellMetadata": {
      "byteLimit": 2048000,
      "rowLimit": 10000
     },
     "inputWidgets": {},
     "nuid": "e4f9a0c1-a060-4171-990c-d9a6429a1cc0",
     "showTitle": false,
     "tableResultSettingsMap": {},
     "title": ""
    }
   },
   "outputs": [
    {
     "output_type": "stream",
     "name": "stdout",
     "output_type": "stream",
     "text": [
      "=\n"
     ]
    }
   ],
   "source": [
    "# Multiple statements in single line\n",
    "a = 330\n",
    "b = 330\n",
    "print(\"A\") if a > b else print(\"=\") if a == b else print(\"B\")"
   ]
  },
  {
   "cell_type": "markdown",
   "metadata": {
    "application/vnd.databricks.v1+cell": {
     "cellMetadata": {},
     "inputWidgets": {},
     "nuid": "63d564d3-2adf-4685-ac7a-32ccd960b8d1",
     "showTitle": false,
     "tableResultSettingsMap": {},
     "title": ""
    }
   },
   "source": [
    "AND OR NOT"
   ]
  },
  {
   "cell_type": "code",
   "execution_count": 0,
   "metadata": {
    "application/vnd.databricks.v1+cell": {
     "cellMetadata": {
      "byteLimit": 2048000,
      "rowLimit": 10000
     },
     "inputWidgets": {},
     "nuid": "609472da-2c99-4c5c-9ac4-47a35d761052",
     "showTitle": false,
     "tableResultSettingsMap": {},
     "title": ""
    }
   },
   "outputs": [
    {
     "output_type": "display_data",
     "data": {
      "text/plain": [
       "Write something that has arasaka in it:  arasaka"
      ]
     },
     "metadata": {},
     "output_type": "display_data"
    },
    {
     "output_type": "stream",
     "name": "stdout",
     "output_type": "stream",
     "text": [
      "Arasaka Present\n"
     ]
    },
    {
     "output_type": "display_data",
     "data": {
      "text/plain": [
       "Write any common sentance:  are"
      ]
     },
     "metadata": {},
     "output_type": "display_data"
    },
    {
     "output_type": "stream",
     "name": "stdout",
     "output_type": "stream",
     "text": [
      "Common words like: and, the, is, are are present in your sentance\n"
     ]
    },
    {
     "output_type": "display_data",
     "data": {
      "text/plain": [
       "Write any vulgar or non - vulgar sentance:  what the fuck"
      ]
     },
     "metadata": {},
     "output_type": "display_data"
    },
    {
     "output_type": "stream",
     "name": "stdout",
     "output_type": "stream",
     "text": [
      "The sentance is safe\n"
     ]
    }
   ],
   "source": [
    "# OR\n",
    "text = str(input(\"Write something that has arasaka in it: \"))\n",
    "print(\"Arasaka Present\") if \"Arasaka\" or \"arasaka\" in text else print(\"Arasaka Absent\")\n",
    "# AND\n",
    "text = str(input(\"Write any common sentance: \"))\n",
    "print(\"Common words like: and, the, is, are are present in your sentance\") if \"and\" or \"the\" or \"is\" or \"are\" in text else print(\"Common words are absent\")\n",
    "# NOT\n",
    "text = str(input(\"Write any vulgar or non - vulgar sentance: \"))\n",
    "print(\"The sentance is safe\") if not \"fuck\" or \"Fuck\" or \"FUCK\" or \"shit\" or \"SHIT\" or \"Shit\" in text else print(\"The sentance is hazardous\")"
   ]
  },
  {
   "cell_type": "markdown",
   "metadata": {
    "application/vnd.databricks.v1+cell": {
     "cellMetadata": {},
     "inputWidgets": {},
     "nuid": "5ed84548-39dc-4c66-8ddd-40b0f09cb00c",
     "showTitle": false,
     "tableResultSettingsMap": {},
     "title": ""
    }
   },
   "source": [
    "NESTED IF"
   ]
  },
  {
   "cell_type": "code",
   "execution_count": 0,
   "metadata": {
    "application/vnd.databricks.v1+cell": {
     "cellMetadata": {
      "byteLimit": 2048000,
      "rowLimit": 10000
     },
     "inputWidgets": {},
     "nuid": "53204288-bff3-4470-8d08-db93fd469ab6",
     "showTitle": false,
     "tableResultSettingsMap": {},
     "title": ""
    }
   },
   "outputs": [
    {
     "output_type": "display_data",
     "data": {
      "text/plain": [
       "Enter a number:  6"
      ]
     },
     "metadata": {},
     "output_type": "display_data"
    },
    {
     "output_type": "stream",
     "name": "stdout",
     "output_type": "stream",
     "text": [
      "Positive and Even\n"
     ]
    }
   ],
   "source": [
    "# Nested if\n",
    "x = int(input(\"Enter a number: \"))\n",
    "if x > 0:\n",
    "    if x % 2 == 0:\n",
    "        print(\"Positive and Even\")\n",
    "    else:\n",
    "        print(\"Positive and Odd\")\n",
    "else:\n",
    "    print(\"Not Positive\")"
   ]
  },
  {
   "cell_type": "markdown",
   "metadata": {
    "application/vnd.databricks.v1+cell": {
     "cellMetadata": {},
     "inputWidgets": {},
     "nuid": "e6362a4c-ffad-42eb-8f9a-fff835dd3654",
     "showTitle": false,
     "tableResultSettingsMap": {},
     "title": ""
    }
   },
   "source": [
    "PASS"
   ]
  },
  {
   "cell_type": "code",
   "execution_count": 0,
   "metadata": {
    "application/vnd.databricks.v1+cell": {
     "cellMetadata": {
      "byteLimit": 2048000,
      "rowLimit": 10000
     },
     "inputWidgets": {},
     "nuid": "c69010fe-e09d-4d93-8932-f805be967fef",
     "showTitle": false,
     "tableResultSettingsMap": {},
     "title": ""
    }
   },
   "outputs": [
    {
     "output_type": "display_data",
     "data": {
      "text/plain": [
       "Enter a number:  5"
      ]
     },
     "metadata": {},
     "output_type": "display_data"
    },
    {
     "output_type": "stream",
     "name": "stdout",
     "output_type": "stream",
     "text": [
      "Non-negative number: 5\n"
     ]
    }
   ],
   "source": [
    "# Pass statement example\n",
    "x = int(input(\"Enter a number: \"))\n",
    "if x < 0:\n",
    "    pass  # Negative numbers are ignored for now\n",
    "else:\n",
    "    print(\"Non-negative number:\", x)"
   ]
  }
 ],
 "metadata": {
  "application/vnd.databricks.v1+notebook": {
   "computePreferences": null,
   "dashboards": [],
   "environmentMetadata": {
    "base_environment": "",
    "environment_version": "3"
   },
   "inputWidgetPreferences": null,
   "language": "python",
   "notebookMetadata": {
    "pythonIndentUnit": 4
   },
   "notebookName": "If Else",
   "widgets": {}
  },
  "language_info": {
   "name": "python"
  }
 },
 "nbformat": 4,
 "nbformat_minor": 0
}