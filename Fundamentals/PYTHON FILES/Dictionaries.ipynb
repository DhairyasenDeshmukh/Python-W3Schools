{
 "cells": [
  {
   "cell_type": "markdown",
   "metadata": {
    "application/vnd.databricks.v1+cell": {
     "cellMetadata": {},
     "inputWidgets": {},
     "nuid": "0a3e6354-eff6-4987-ae5a-52585734c3b2",
     "showTitle": false,
     "tableResultSettingsMap": {},
     "title": ""
    }
   },
   "source": [
    "DICTIONARIES"
   ]
  },
  {
   "cell_type": "code",
   "execution_count": 0,
   "metadata": {
    "application/vnd.databricks.v1+cell": {
     "cellMetadata": {
      "byteLimit": 2048000,
      "rowLimit": 10000
     },
     "inputWidgets": {},
     "nuid": "65329000-47ff-43f0-aaef-9e1261cf2970",
     "showTitle": false,
     "tableResultSettingsMap": {},
     "title": ""
    }
   },
   "outputs": [
    {
     "output_type": "stream",
     "name": "stdout",
     "output_type": "stream",
     "text": [
      "{'brand': 'Ford', 'model': 'Mustang', 'year': '1964'}\n{'Name': 'Dhairyasen', 'Place': 'Amravati', 'Role': 'Player', 'Status': 'Hibernating'}\n{'brand': 'Ford', 'electric': False, 'year': 1964, 'colors': ['red', 'white', 'blue']}\n{'Year': '2077', 'Era': 'Post Unification War', 'NusaPresident': 'Rosalynd Myers', 'RichardNight': 'Dead'}\n4\n"
     ]
    }
   ],
   "source": [
    "# Simple dictionary\n",
    "dict1 = {\n",
    "\t\t\t\"brand\" :\"Ford\",\n",
    "\t\t\t\"model\":\"Mustang\",\n",
    "\t\t\t\"year\":\"1964\"\t\n",
    "\t\t}\n",
    "print(dict1)\n",
    "# Duplicate keys\n",
    "dict2 = {\n",
    "   \"Name\":\"Dhairyasen\",\n",
    "   \"Place\":\"Ambi\",\n",
    "   \"Place\":\"Pune\",\n",
    "   \"Place\":\"Amravati\",\n",
    "   \"Role\":\"Player\",\n",
    "   \"Status\":\"Hibernating\"\n",
    "   }\n",
    "print(dict2)\n",
    "# Multiple data types in dictionary\n",
    "dict3 = {\n",
    "\t\t\t  \"brand\": \"Ford\",\n",
    "\t\t\t  \"electric\": False,\n",
    "\t\t\t  \"year\": 1964,\n",
    "\t\t\t  \"colors\": [\"red\", \"white\", \"blue\"]\n",
    "\t\t\t  }\n",
    "print(dict3)\n",
    "# Dictrionary constructor\n",
    "dict4 = dict(Year = \"2077\", Era = \"Post Unification War\", NusaPresident = \"Rosalynd Myers\", RichardNight = \"Dead\")\n",
    "print(dict4)\n",
    "# Length of Dictionary\n",
    "print(len(dict4))\n"
   ]
  },
  {
   "cell_type": "markdown",
   "metadata": {
    "application/vnd.databricks.v1+cell": {
     "cellMetadata": {},
     "inputWidgets": {},
     "nuid": "30d81001-0863-488c-9c99-7768c42bce40",
     "showTitle": false,
     "tableResultSettingsMap": {},
     "title": ""
    }
   },
   "source": [
    "ACCESSING DICTIONARY"
   ]
  },
  {
   "cell_type": "code",
   "execution_count": 0,
   "metadata": {
    "application/vnd.databricks.v1+cell": {
     "cellMetadata": {
      "byteLimit": 2048000,
      "rowLimit": 10000
     },
     "inputWidgets": {},
     "nuid": "408138a4-40a9-40c1-aeba-2057a04c03e5",
     "showTitle": false,
     "tableResultSettingsMap": {},
     "title": ""
    }
   },
   "outputs": [
    {
     "output_type": "stream",
     "name": "stdout",
     "output_type": "stream",
     "text": [
      "dict_keys(['Speed', 'Hacking', 'Power'])\ndict_values(['Sandevastan', 'Cyberdeck', 'Berserk'])\ndict_items([('Speed', 'Sandevastan'), ('Hacking', 'Cyberdeck'), ('Power', 'Berserk')])\nSandevastan\nCyberdeck\nTrue\n"
     ]
    }
   ],
   "source": [
    "cyberware = {\n",
    "    \"Speed\":\"Sandevastan\",\n",
    "    \"Hacking\":\"Cyberdeck\",\n",
    "    \"Power\":\"Berserk\"\n",
    "}\n",
    "# Get the keys\n",
    "print(cyberware.keys())\n",
    "# Get the values\n",
    "print(cyberware.values())\n",
    "# Get the items\n",
    "print(cyberware.items())\n",
    "# Get a particular value from key\n",
    "print(cyberware.get(\"Speed\"))\n",
    "print(cyberware[\"Hacking\"])\n",
    "# Check if item is in the dictionary\n",
    "if \"Power\" in cyberware:\n",
    "    print(True)\n",
    "else:\n",
    "    print(False)"
   ]
  },
  {
   "cell_type": "markdown",
   "metadata": {
    "application/vnd.databricks.v1+cell": {
     "cellMetadata": {},
     "inputWidgets": {},
     "nuid": "78b07c3a-cb20-4db4-bb69-fe2b5c99f0b3",
     "showTitle": false,
     "tableResultSettingsMap": {},
     "title": ""
    }
   },
   "source": [
    "CHANGING DICTIONARY ITEMS"
   ]
  },
  {
   "cell_type": "code",
   "execution_count": 0,
   "metadata": {
    "application/vnd.databricks.v1+cell": {
     "cellMetadata": {
      "byteLimit": 2048000,
      "rowLimit": 10000
     },
     "inputWidgets": {},
     "nuid": "728836c0-8217-4462-b01a-0727343feefa",
     "showTitle": false,
     "tableResultSettingsMap": {},
     "title": ""
    }
   },
   "outputs": [
    {
     "output_type": "stream",
     "name": "stdout",
     "output_type": "stream",
     "text": [
      "{'Speed': 'Millitech Sandevastan', 'Hacking': 'Cyberdeck', 'Power': 'Berserk'}\n{'Speed': 'Millitech Sandevastan', 'Hacking': 'Zetatech Cyberdeck', 'Power': 'Berserk'}\n"
     ]
    }
   ],
   "source": [
    "# Changing values directly\n",
    "cyberware[\"Speed\"] = \"Millitech Sandevastan\"\n",
    "print(cyberware)\n",
    "# Changing with update method\n",
    "cyberware.update({\"Hacking\":\"Zetatech Cyberdeck\"})\n",
    "print(cyberware)"
   ]
  },
  {
   "cell_type": "markdown",
   "metadata": {
    "application/vnd.databricks.v1+cell": {
     "cellMetadata": {},
     "inputWidgets": {},
     "nuid": "c9b3edf1-3758-439d-87e1-47b94cc1232a",
     "showTitle": false,
     "tableResultSettingsMap": {},
     "title": ""
    }
   },
   "source": [
    "ADDING AND REMOVING ITEMS"
   ]
  },
  {
   "cell_type": "code",
   "execution_count": 0,
   "metadata": {
    "application/vnd.databricks.v1+cell": {
     "cellMetadata": {
      "byteLimit": 2048000,
      "rowLimit": 10000
     },
     "inputWidgets": {},
     "nuid": "65248383-e8e9-42df-a0a0-67782f50fa7c",
     "showTitle": false,
     "tableResultSettingsMap": {},
     "title": ""
    }
   },
   "outputs": [
    {
     "output_type": "stream",
     "name": "stdout",
     "output_type": "stream",
     "text": [
      "{'Speed': 'Sandevastan', 'Hacking': 'Cyberdeck', 'Power': 'Berserk', 'Scan': 'Kiroshi Optics'}\n{'Speed': 'Sandevastan', 'Hacking': 'Cyberdeck', 'Power': 'Berserk', 'Capacity': 'Chrome Compressor'}\n{'Speed': 'Sandevastan', 'Hacking': 'Cyberdeck', 'Power': 'Berserk'}\n{'Hacking': 'Cyberdeck', 'Power': 'Berserk'}\n{}\n"
     ]
    },
    {
     "output_type": "display_data",
     "data": {
      "text/plain": [
       "\u001B[0;31m---------------------------------------------------------------------------\u001B[0m\n",
       "\u001B[0;31mNameError\u001B[0m                                 Traceback (most recent call last)\n",
       "File \u001B[0;32m<command-5171522245088945>, line 25\u001B[0m\n",
       "\u001B[1;32m     23\u001B[0m \u001B[38;5;66;03m# Deleting the dictionary\u001B[39;00m\n",
       "\u001B[1;32m     24\u001B[0m \u001B[38;5;28;01mdel\u001B[39;00m cyberware\n",
       "\u001B[0;32m---> 25\u001B[0m \u001B[38;5;28mprint\u001B[39m(cyberware)\n",
       "\n",
       "\u001B[0;31mNameError\u001B[0m: name 'cyberware' is not defined"
      ]
     },
     "metadata": {
      "application/vnd.databricks.v1+output": {
       "addedWidgets": {},
       "arguments": {},
       "datasetInfos": [],
       "jupyterProps": {
        "ename": "NameError",
        "evalue": "name 'cyberware' is not defined"
       },
       "metadata": {
        "errorSummary": "<span class='ansi-red-fg'>NameError</span>: name 'cyberware' is not defined"
       },
       "removedWidgets": [],
       "sqlProps": null,
       "stackFrames": [
        "\u001B[0;31m---------------------------------------------------------------------------\u001B[0m",
        "\u001B[0;31mNameError\u001B[0m                                 Traceback (most recent call last)",
        "File \u001B[0;32m<command-5171522245088945>, line 25\u001B[0m\n\u001B[1;32m     23\u001B[0m \u001B[38;5;66;03m# Deleting the dictionary\u001B[39;00m\n\u001B[1;32m     24\u001B[0m \u001B[38;5;28;01mdel\u001B[39;00m cyberware\n\u001B[0;32m---> 25\u001B[0m \u001B[38;5;28mprint\u001B[39m(cyberware)\n",
        "\u001B[0;31mNameError\u001B[0m: name 'cyberware' is not defined"
       ],
       "type": "baseError"
      }
     },
     "output_type": "display_data"
    }
   ],
   "source": [
    "cyberware = {\n",
    "    \"Speed\":\"Sandevastan\",\n",
    "    \"Hacking\":\"Cyberdeck\",\n",
    "    \"Power\":\"Berserk\"\n",
    "}\n",
    "# Direct method\n",
    "cyberware[\"Scan\"] = \"Kiroshi Optics\"\n",
    "print(cyberware)\n",
    "# Update method\n",
    "cyberware.update({\"Capacity\":\"Chrome Compressor\"})\n",
    "# Removing with pop\n",
    "cyberware.pop(\"Scan\")\n",
    "print(cyberware)\n",
    "# Removing with popitem\n",
    "cyberware.popitem()\n",
    "print(cyberware)\n",
    "# Removing with del\n",
    "del cyberware[\"Speed\"]\n",
    "print(cyberware)\n",
    "# Removing with clear\n",
    "cyberware.clear()\n",
    "print(cyberware)\n",
    "# Deleting the dictionary\n",
    "del cyberware\n",
    "print(cyberware)"
   ]
  },
  {
   "cell_type": "markdown",
   "metadata": {
    "application/vnd.databricks.v1+cell": {
     "cellMetadata": {},
     "inputWidgets": {},
     "nuid": "3a9dcc3e-d7f5-4e84-8274-c0d7b68a8da6",
     "showTitle": false,
     "tableResultSettingsMap": {},
     "title": ""
    }
   },
   "source": [
    "LOOPING IN DICTIONARY"
   ]
  },
  {
   "cell_type": "code",
   "execution_count": 0,
   "metadata": {
    "application/vnd.databricks.v1+cell": {
     "cellMetadata": {
      "byteLimit": 2048000,
      "rowLimit": 10000
     },
     "inputWidgets": {},
     "nuid": "9de2ab2f-d3e9-49ce-bbcd-e4b43d44b65e",
     "showTitle": false,
     "tableResultSettingsMap": {},
     "title": ""
    }
   },
   "outputs": [
    {
     "output_type": "stream",
     "name": "stdout",
     "output_type": "stream",
     "text": [
      "{'ONE': 1, 'TWO': 2, 'THREE': 3, 'FOUR': 4, 'FIVE': 5}\nONE\nTWO\nTHREE\nFOUR\nFIVE\n1\n2\n3\n4\n5\nONE\nTWO\nTHREE\nFOUR\nFIVE\nONE 1\nTWO 2\nTHREE 3\nFOUR 4\nFIVE 5\n"
     ]
    }
   ],
   "source": [
    "num = {'ONE': 1, 'TWO': 2, 'THREE': 3, 'FOUR': 4, 'FIVE': 5}\n",
    "print(num)\n",
    "# Normal Loop\n",
    "for a in num:\n",
    "    print(a)\n",
    "# Values Loop\n",
    "for x in num.values():\n",
    "    print(x)\n",
    "# Keys Loop\n",
    "for q in num.keys():\n",
    "    print(q)\n",
    "# Items Loop\n",
    "for i,t in num.items():\n",
    "    print(i,t)"
   ]
  },
  {
   "cell_type": "markdown",
   "metadata": {
    "application/vnd.databricks.v1+cell": {
     "cellMetadata": {},
     "inputWidgets": {},
     "nuid": "9985dc41-182a-40fa-a5ae-dff01ca3d4f1",
     "showTitle": false,
     "tableResultSettingsMap": {},
     "title": ""
    }
   },
   "source": [
    "COPYING DICTIONARIES"
   ]
  },
  {
   "cell_type": "code",
   "execution_count": 0,
   "metadata": {
    "application/vnd.databricks.v1+cell": {
     "cellMetadata": {
      "byteLimit": 2048000,
      "rowLimit": 10000
     },
     "inputWidgets": {},
     "nuid": "b377bd84-efca-4107-852d-156061e9725a",
     "showTitle": false,
     "tableResultSettingsMap": {},
     "title": ""
    }
   },
   "outputs": [
    {
     "output_type": "stream",
     "name": "stdout",
     "output_type": "stream",
     "text": [
      "{'ONE': 1, 'TWO': 2, 'THREE': 3, 'FOUR': 4, 'FIVE': 5}\n{'ONE': 1, 'TWO': 2, 'THREE': 3, 'FOUR': 4, 'FIVE': 5}\n"
     ]
    }
   ],
   "source": [
    "# Copy using constructor\n",
    "numbers = dict(num)\n",
    "print(numbers)\n",
    "# Copy function method\n",
    "digits = numbers.copy()\n",
    "print(digits)"
   ]
  },
  {
   "cell_type": "markdown",
   "metadata": {
    "application/vnd.databricks.v1+cell": {
     "cellMetadata": {},
     "inputWidgets": {},
     "nuid": "e966b586-c588-4ea7-a522-fc0944c56328",
     "showTitle": false,
     "tableResultSettingsMap": {},
     "title": ""
    }
   },
   "source": []
  },
  {
   "cell_type": "markdown",
   "metadata": {
    "application/vnd.databricks.v1+cell": {
     "cellMetadata": {},
     "inputWidgets": {},
     "nuid": "74bbb960-8a94-4858-8415-4fb55787d628",
     "showTitle": false,
     "tableResultSettingsMap": {},
     "title": ""
    }
   },
   "source": [
    "NESTED DICTIONARIES"
   ]
  },
  {
   "cell_type": "code",
   "execution_count": 0,
   "metadata": {
    "application/vnd.databricks.v1+cell": {
     "cellMetadata": {
      "byteLimit": 2048000,
      "rowLimit": 10000
     },
     "inputWidgets": {},
     "nuid": "126eaffa-acd8-4079-a6c3-7b77ca26e401",
     "showTitle": false,
     "tableResultSettingsMap": {},
     "title": ""
    }
   },
   "outputs": [
    {
     "output_type": "stream",
     "name": "stdout",
     "output_type": "stream",
     "text": [
      "{'child1': {'name': 'Emil', 'year': 2004}, 'child2': {'name': 'Tobias', 'year': 2007}, 'child3': {'name': 'Linus', 'year': 2011}}\n{'child1': {'name': 'Emil', 'year': 2004}, 'child2': {'name': 'Tobias', 'year': 2007}, 'child3': {'name': 'Linus', 'year': 2011}}\nTobias\nchild1\nname: Emil\nyear: 2004\nchild2\nname: Tobias\nyear: 2007\nchild3\nname: Linus\nyear: 2011\n"
     ]
    }
   ],
   "source": [
    "# Method 1\n",
    "myfamily = {\n",
    "  \"child1\" : {\n",
    "    \"name\" : \"Emil\",\n",
    "    \"year\" : 2004\n",
    "  },\n",
    "  \"child2\" : {\n",
    "    \"name\" : \"Tobias\",\n",
    "    \"year\" : 2007\n",
    "  },\n",
    "  \"child3\" : {\n",
    "    \"name\" : \"Linus\",\n",
    "    \"year\" : 2011\n",
    "  }\n",
    "}\n",
    "print(myfamily)\n",
    "# Method 2\n",
    "child1 = {\n",
    "  \"name\" : \"Emil\",\n",
    "  \"year\" : 2004\n",
    "}\n",
    "child2 = {\n",
    "  \"name\" : \"Tobias\",\n",
    "  \"year\" : 2007\n",
    "}\n",
    "child3 = {\n",
    "  \"name\" : \"Linus\",\n",
    "  \"year\" : 2011\n",
    "}\n",
    "\n",
    "myfamily = {\n",
    "  \"child1\" : child1,\n",
    "  \"child2\" : child2,\n",
    "  \"child3\" : child3\n",
    "}\n",
    "print(myfamily)\n",
    "# Accessing Items\n",
    "print(myfamily[\"child2\"][\"name\"])\n",
    "# Looping in nested dictionary\n",
    "for x, obj in myfamily.items():\n",
    "  print(x)\n",
    "\n",
    "  for y in obj:\n",
    "    print(y + ':', obj[y])"
   ]
  }
 ],
 "metadata": {
  "application/vnd.databricks.v1+notebook": {
   "computePreferences": null,
   "dashboards": [],
   "environmentMetadata": {
    "base_environment": "",
    "environment_version": "3"
   },
   "inputWidgetPreferences": null,
   "language": "python",
   "notebookMetadata": {
    "pythonIndentUnit": 4
   },
   "notebookName": "Dictionaries",
   "widgets": {}
  },
  "language_info": {
   "name": "python"
  }
 },
 "nbformat": 4,
 "nbformat_minor": 0
}