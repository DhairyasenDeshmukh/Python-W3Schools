{
 "cells": [
  {
   "cell_type": "markdown",
   "metadata": {
    "application/vnd.databricks.v1+cell": {
     "cellMetadata": {
      "byteLimit": 2048000,
      "rowLimit": 10000
     },
     "inputWidgets": {},
     "nuid": "28097b2e-fcfa-465f-bb3b-a3c5461e245e",
     "showTitle": false,
     "tableResultSettingsMap": {},
     "title": ""
    }
   },
   "source": [
    "### WORKING WITH LIST"
   ]
  },
  {
   "cell_type": "code",
   "execution_count": 0,
   "metadata": {
    "application/vnd.databricks.v1+cell": {
     "cellMetadata": {
      "byteLimit": 2048000,
      "rowLimit": 10000
     },
     "inputWidgets": {},
     "nuid": "a028054b-4d93-45a0-8009-fd42d4bb3510",
     "showTitle": false,
     "tableResultSettingsMap": {},
     "title": ""
    }
   },
   "outputs": [],
   "source": [
    "# List od characters from 2013\n",
    "_2013 = [\"Alt\", \"Rogue\", \"Johnny\", \"Kerry\"]\n",
    "print(\"2013: \", _2013)\n",
    "# List allows duplicate characters\n",
    "_2077 = [\"Valerie\", \"Jakie\", \"Mitsy\", \"Somi\", \"Valerie\"]\n",
    "print(\"2077: \", _2077)\n",
    "# List lenght\n",
    "print(\"Number of items in _2077: \", len(_2077))\n",
    "# Multiple data type lsit\n",
    "multi = [1, True, \"Pandu\"]\n",
    "print(multi)\n",
    "# List constructor\n",
    "formula1 = list((\"Max\", \"Charles\", \"Toto\", \"Norris\"))\n",
    "print(formula1)"
   ]
  },
  {
   "cell_type": "markdown",
   "metadata": {
    "application/vnd.databricks.v1+cell": {
     "cellMetadata": {
      "byteLimit": 2048000,
      "rowLimit": 10000
     },
     "inputWidgets": {},
     "nuid": "8f4e331e-9b90-4734-b689-1e77bdb23705",
     "showTitle": false,
     "tableResultSettingsMap": {},
     "title": ""
    }
   },
   "source": [
    "### ACCESSING LIST INDEX"
   ]
  },
  {
   "cell_type": "code",
   "execution_count": 0,
   "metadata": {
    "application/vnd.databricks.v1+cell": {
     "cellMetadata": {
      "byteLimit": 2048000,
      "rowLimit": 10000
     },
     "inputWidgets": {},
     "nuid": "6ce81565-41df-4ccf-80ec-a17c8dc9d90a",
     "showTitle": false,
     "tableResultSettingsMap": {},
     "title": ""
    }
   },
   "outputs": [],
   "source": [
    "# Accessing List items with index\n",
    "flowers = [\"Rose\", \"Lily\", \"Tulip\", \"Daisy\"]\n",
    "print(flowers[0])\n",
    "print(flowers[-1])\n",
    "# Accessing range of items\n",
    "print(flowers[1:3])\n",
    "print(flowers[:3])\n",
    "print(flowers[2:])\n",
    "# Check if item exists\n",
    "if \"Rose\" in flowers:\n",
    "  print(\"Yes, Rose is in the list\")\n",
    "print(flowers[-1])\n",
    "print(flowers[-3:-1])"
   ]
  },
  {
   "cell_type": "markdown",
   "metadata": {
    "application/vnd.databricks.v1+cell": {
     "cellMetadata": {},
     "inputWidgets": {},
     "nuid": "d6ed8605-b403-4920-a646-03d750e3a48e",
     "showTitle": false,
     "tableResultSettingsMap": {},
     "title": ""
    }
   },
   "source": [
    "## CHANGING AND ADDING ITEMS"
   ]
  },
  {
   "cell_type": "code",
   "execution_count": 0,
   "metadata": {
    "application/vnd.databricks.v1+cell": {
     "cellMetadata": {
      "byteLimit": 2048000,
      "rowLimit": 10000
     },
     "inputWidgets": {},
     "nuid": "1bc862c5-d9c9-48ef-97de-5a904b3049d5",
     "showTitle": false,
     "tableResultSettingsMap": {},
     "title": ""
    }
   },
   "outputs": [],
   "source": [
    "# Changing and Inserting items in list\n",
    "langs = [\"HTML\", \"CSS\", \"JAVA\", \"SQL\", \"PYTHON\", \"C++\"]\n",
    "print(langs) # Original list\n",
    "langs[0] = \"GODOT\" # Changing the item\n",
    "print(langs) # Updates list\n",
    "langs[1:3] = [\"RUST\", \"R\"] # Changing range of items from list\n",
    "print(langs) # Updated list\n",
    "\n",
    "# Inserting Items\n",
    "langs.insert(0, \"PANDAS\")\n",
    "print(langs) # Updated list\n",
    "\n",
    "# Extending lists\n",
    "langs.extend(_2077) # Adding list \"_2077\" to langs\n",
    "print(langs) # Updates list"
   ]
  },
  {
   "cell_type": "markdown",
   "metadata": {
    "application/vnd.databricks.v1+cell": {
     "cellMetadata": {},
     "inputWidgets": {},
     "nuid": "28ecc0a2-be1d-49ef-81aa-30917eb3d23a",
     "showTitle": false,
     "tableResultSettingsMap": {},
     "title": ""
    }
   },
   "source": [
    "## REMOVING LIST ITEMS"
   ]
  },
  {
   "cell_type": "code",
   "execution_count": 0,
   "metadata": {
    "application/vnd.databricks.v1+cell": {
     "cellMetadata": {
      "byteLimit": 2048000,
      "rowLimit": 10000
     },
     "inputWidgets": {},
     "nuid": "c6fbc41a-07ce-424a-a06b-ce0737bcf576",
     "showTitle": false,
     "tableResultSettingsMap": {},
     "title": ""
    }
   },
   "outputs": [],
   "source": [
    "# Removing items from the list\n",
    "_2077 = [\"Valerie\", \"Jakie\", \"Mitsy\", \"Somi\"]\n",
    "print(_2077) # Original list\n",
    "_2077.remove(\"Jakie\")\n",
    "print(_2077) # Updates list\n",
    "_2077.pop(2)\n",
    "print(_2077) # Updates list\n",
    "del _2077[-1]\n",
    "print(_2077) # Updates list\n",
    "_2077.clear()\n",
    "print(_2077) # Updates list\n",
    "\n",
    "# Deleting list\n",
    "del _2077"
   ]
  },
  {
   "cell_type": "markdown",
   "metadata": {
    "application/vnd.databricks.v1+cell": {
     "cellMetadata": {},
     "inputWidgets": {},
     "nuid": "8add2961-87c3-4889-9652-7294fd05046d",
     "showTitle": false,
     "tableResultSettingsMap": {},
     "title": ""
    }
   },
   "source": [
    "## LOOPING LISTS"
   ]
  },
  {
   "cell_type": "code",
   "execution_count": 0,
   "metadata": {
    "application/vnd.databricks.v1+cell": {
     "cellMetadata": {
      "byteLimit": 2048000,
      "rowLimit": 10000
     },
     "inputWidgets": {},
     "nuid": "e657bd8c-61a2-44b8-900c-6009e61679da",
     "showTitle": false,
     "tableResultSettingsMap": {},
     "title": ""
    }
   },
   "outputs": [
    {
     "output_type": "stream",
     "name": "stdout",
     "output_type": "stream",
     "text": [
      "Looped directly\n\nRose\nLily\nTulip\nDaisy\n\nLooped through range\n\napple\nbanana\ncherry\n\nPrint list till 3 items using while loop:\n\nRose\nLily\nTulip\n\nLooping through list comprehension\n\napple\nbanana\ncherry\n"
     ]
    },
    {
     "output_type": "execute_result",
     "data": {
      "text/plain": [
       "[None, None, None]"
      ]
     },
     "execution_count": 18,
     "metadata": {},
     "output_type": "execute_result"
    }
   ],
   "source": [
    "# Printing items through loop\n",
    "flowers = [\"Rose\", \"Lily\", \"Tulip\", \"Daisy\"]\n",
    "print(\"Looped directly\\n\")\n",
    "for x in flowers:\n",
    "  print(x)\n",
    "\n",
    "thislist = [\"apple\", \"banana\", \"cherry\"]\n",
    "print(\"\\nLooped through range\\n\")\n",
    "for i in range(len(thislist)):\n",
    "  print(thislist[i])\n",
    "\n",
    "# Printing list till 3 items using while loop\n",
    "i = 0\n",
    "print(\"\\nPrint list till 3 items using while loop:\\n\")\n",
    "while i < 3:\n",
    "  print(flowers[i])\n",
    "  i += 1\n",
    "\n",
    "# Looping through list comprehension\n",
    "asdasd = [\"apple\", \"banana\", \"cherry\"]\n",
    "print(\"\\nLooping through list comprehension\\n\")\n",
    "[print(x) for x in asdasd]"
   ]
  },
  {
   "cell_type": "markdown",
   "metadata": {
    "application/vnd.databricks.v1+cell": {
     "cellMetadata": {},
     "inputWidgets": {},
     "nuid": "3e9e5277-7d6b-4d95-b357-8d023cfe8ed4",
     "showTitle": false,
     "tableResultSettingsMap": {},
     "title": ""
    }
   },
   "source": [
    "## LIST COMPREHENSION"
   ]
  },
  {
   "cell_type": "code",
   "execution_count": 0,
   "metadata": {
    "application/vnd.databricks.v1+cell": {
     "cellMetadata": {
      "byteLimit": 2048000,
      "rowLimit": 10000
     },
     "inputWidgets": {},
     "nuid": "6a1a5ba7-5a78-4b90-9456-577357115e04",
     "showTitle": false,
     "tableResultSettingsMap": {},
     "title": ""
    }
   },
   "outputs": [
    {
     "output_type": "stream",
     "name": "stdout",
     "output_type": "stream",
     "text": [
      "List that contains items from compo that has only a's in it:\n['apple', 'avocado', 'apricot', 'almond', 'anchovy']\n\nList that contains items from compo that has only b's in it:\n['bonono', 'blueberry', 'blockberry', 'breod', 'beet']\n"
     ]
    }
   ],
   "source": [
    "# SyntaxError is due to incorrect usage of 'global' keyword and dot notation.\n",
    "compo = [\"apple\", \"avocado\", \"apricot\", \"almond\", \"anchovy\", \"bonono\", \"blueberry\", \"blockberry\", \"breod\", \"beet\"]\n",
    "print(\"List that contains items from compo that has only a's in it:\")\n",
    "only_a = [i for i in compo if \"a\" in i]\n",
    "print(only_a)\n",
    "only_b = [b for b in compo if \"b\" in b]\n",
    "print(\"\\nList that contains items from compo that has only b's in it:\")\n",
    "print(only_b)"
   ]
  },
  {
   "cell_type": "markdown",
   "metadata": {
    "application/vnd.databricks.v1+cell": {
     "cellMetadata": {},
     "inputWidgets": {},
     "nuid": "36281ba6-f675-4af5-88ab-1e21dee3159a",
     "showTitle": false,
     "tableResultSettingsMap": {},
     "title": ""
    }
   },
   "source": [
    "## SORTING LIST"
   ]
  },
  {
   "cell_type": "code",
   "execution_count": 0,
   "metadata": {
    "application/vnd.databricks.v1+cell": {
     "cellMetadata": {
      "byteLimit": 2048000,
      "rowLimit": 10000
     },
     "inputWidgets": {},
     "nuid": "70f37236-317c-4014-83e5-0332aa92357f",
     "showTitle": false,
     "tableResultSettingsMap": {},
     "title": ""
    }
   },
   "outputs": [
    {
     "output_type": "stream",
     "name": "stdout",
     "output_type": "stream",
     "text": [
      "Original list: \n['apple', 'avocado', 'apricot', 'almond', 'anchovy', 'bonono', 'blueberry', 'blockberry', 'breod', 'beet']\n\nSorted list: \n['almond', 'anchovy', 'apple', 'apricot', 'avocado', 'beet', 'blockberry', 'blueberry', 'bonono', 'breod']\n\nReverse Sort: \n['breod', 'bonono', 'blueberry', 'blockberry', 'beet', 'avocado', 'apricot', 'apple', 'anchovy', 'almond']\n\nInsensitive: \n ['Afterlife', 'Kabuki', \"Lizzie's Bar\", 'Maelstrom', 'Pacifica', 'SAMURAI', 'The Glen', 'braindance', 'cyberdeck', 'eddies', 'reever']\n\nCase Sensitive: \n ['Afterlife', 'braindance', 'cyberdeck', 'eddies', 'Kabuki', \"Lizzie's Bar\", 'Maelstrom', 'Pacifica', 'reever', 'SAMURAI', 'The Glen']\n"
     ]
    }
   ],
   "source": [
    "# Sorting list alphabetically\n",
    "compo = [\"apple\", \"avocado\", \"apricot\", \"almond\", \"anchovy\", \"bonono\", \"blueberry\", \"blockberry\", \"breod\", \"beet\"]\n",
    "print(\"Original list: \")\n",
    "print(compo)\n",
    "compo.sort()\n",
    "print(\"\\nSorted list: \")\n",
    "print(compo)\n",
    "\n",
    "# Sorting in Reverse order\n",
    "print(\"\\nReverse Sort: \")\n",
    "compo.sort(reverse =True)\n",
    "print(compo)\n",
    "\n",
    "# Case Insensitive Sort and Sensitive Sort\n",
    "nightcity = [ \"Afterlife\",\"Maelstrom\", \"SAMURAI\", \"Lizzie's Bar\", \"Kabuki\",\"Pacifica\",\"The Glen\",\"braindance\",\"cyberdeck\",\"reever\",\"eddies\"]\n",
    "nightcity.sort()\n",
    "print(\"\\nInsensitive: \\n\", nightcity)\n",
    "nightcity.sort(key = str.lower)\n",
    "print(\"\\nCase Sensitive: \\n\", nightcity)\n",
    "\n"
   ]
  },
  {
   "cell_type": "markdown",
   "metadata": {
    "application/vnd.databricks.v1+cell": {
     "cellMetadata": {},
     "inputWidgets": {},
     "nuid": "5e05c89c-d8c8-4845-ab86-632adf401ac3",
     "showTitle": false,
     "tableResultSettingsMap": {},
     "title": ""
    }
   },
   "source": [
    "## COPYING A LIST"
   ]
  },
  {
   "cell_type": "code",
   "execution_count": 0,
   "metadata": {
    "application/vnd.databricks.v1+cell": {
     "cellMetadata": {
      "byteLimit": 2048000,
      "rowLimit": 10000
     },
     "inputWidgets": {},
     "nuid": "955e62ee-7756-42be-9fc7-f737c808278d",
     "showTitle": false,
     "tableResultSettingsMap": {},
     "title": ""
    }
   },
   "outputs": [
    {
     "output_type": "stream",
     "name": "stdout",
     "output_type": "stream",
     "text": [
      "Sea :  ['Squid', 'Turtle', 'Eel', 'Crab', 'Tuna']\n\n.copy method:  ['Squid', 'Turtle', 'Eel', 'Crab', 'Tuna']\n\nlist() method:  ['Squid', 'Turtle', 'Eel', 'Crab', 'Tuna']\n\nSlicing method:  ['Squid', 'Turtle', 'Eel', 'Crab', 'Tuna']\n"
     ]
    }
   ],
   "source": [
    "# Different methods to copy a list\n",
    "sea = ['Squid','Turtle','Eel','Crab','Tuna']\n",
    "print(\"Sea : \", sea)\n",
    "# .copy() method\n",
    "ocean = sea.copy()\n",
    "print(\"\\n.copy method: \", ocean)\n",
    "# list() method\n",
    "water = list(ocean)\n",
    "print(\"\\nlist() method: \", water)\n",
    "# Slicing method\n",
    "aqua = water[:]\n",
    "print(\"\\nSlicing method: \",aqua)"
   ]
  },
  {
   "cell_type": "markdown",
   "metadata": {
    "application/vnd.databricks.v1+cell": {
     "cellMetadata": {},
     "inputWidgets": {},
     "nuid": "b0b48ce3-f95a-4ac1-a815-26b563e52ed5",
     "showTitle": false,
     "tableResultSettingsMap": {},
     "title": ""
    }
   },
   "source": [
    "## JOINING LIST"
   ]
  },
  {
   "cell_type": "code",
   "execution_count": 0,
   "metadata": {
    "application/vnd.databricks.v1+cell": {
     "cellMetadata": {
      "byteLimit": 2048000,
      "rowLimit": 10000
     },
     "inputWidgets": {},
     "nuid": "5590ebf3-da2f-482a-9699-407de654dc4e",
     "showTitle": false,
     "tableResultSettingsMap": {},
     "title": ""
    }
   },
   "outputs": [
    {
     "output_type": "stream",
     "name": "stdout",
     "output_type": "stream",
     "text": [
      "home:  ['food', 'chores', 'nagging']\nflat:  ['comfort', 'free will', 'gym-diet', 'free time', 'peace']\n\nLife:  ['food', 'chores', 'nagging', 'comfort', 'free will', 'gym-diet', 'free time', 'peace']\n\nhome appended :  ['food', 'chores', 'nagging', 'comfort', 'free will', 'gym-diet', 'free time', 'peace']\n\nflat appended:  ['comfort', 'free will', 'gym-diet', 'free time', 'peace', 'food', 'chores', 'nagging']\n"
     ]
    }
   ],
   "source": [
    "# Different methods of joining lists\n",
    "home = ['food', 'chores', 'nagging']\n",
    "flat = ['comfort','free will','gym-diet','free time', 'peace']\n",
    "print(\"home: \",home,)\n",
    "print(\"flat: \", flat)\n",
    "# Operator method\n",
    "life = home + flat\n",
    "print(\"\\nLife: \", life)\n",
    "# Append method\n",
    "for i in flat:\n",
    "    home.append(i)\n",
    "print(\"\\nhome appended : \", home)\n",
    "home = ['food', 'chores', 'nagging']\n",
    "# Extend method\n",
    "flat.extend(home)\n",
    "print(\"\\nflat appended: \",flat)"
   ]
  }
 ],
 "metadata": {
  "application/vnd.databricks.v1+notebook": {
   "computePreferences": {
    "hardware": {
     "accelerator": null,
     "gpuPoolId": null,
     "memory": null
    }
   },
   "dashboards": [],
   "environmentMetadata": {
    "base_environment": "",
    "environment_version": "2"
   },
   "inputWidgetPreferences": null,
   "language": "python",
   "notebookMetadata": {
    "pythonIndentUnit": 4
   },
   "notebookName": "Lists",
   "widgets": {}
  },
  "language_info": {
   "name": "python"
  }
 },
 "nbformat": 4,
 "nbformat_minor": 0
}