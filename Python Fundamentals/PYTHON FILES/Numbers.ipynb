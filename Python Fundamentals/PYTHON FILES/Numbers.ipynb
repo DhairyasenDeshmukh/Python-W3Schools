{
 "cells": [
  {
   "cell_type": "markdown",
   "metadata": {
    "application/vnd.databricks.v1+cell": {
     "cellMetadata": {},
     "inputWidgets": {},
     "nuid": "310120e8-4a68-4e42-acba-04fdfb53016a",
     "showTitle": false,
     "tableResultSettingsMap": {},
     "title": ""
    }
   },
   "source": [
    "### NUMBERS AND ITS TYPES"
   ]
  },
  {
   "cell_type": "code",
   "execution_count": 0,
   "metadata": {
    "application/vnd.databricks.v1+cell": {
     "cellMetadata": {
      "byteLimit": 2048000,
      "rowLimit": 10000
     },
     "inputWidgets": {},
     "nuid": "1f50085a-ce33-48fe-b2dd-12058dafb6d2",
     "showTitle": false,
     "tableResultSettingsMap": {},
     "title": ""
    }
   },
   "outputs": [
    {
     "output_type": "stream",
     "name": "stdout",
     "output_type": "stream",
     "text": [
      "<class 'int'>\n<class 'float'>\n<class 'complex'>\n"
     ]
    }
   ],
   "source": [
    "# Types of Numbers\n",
    "q = 1\n",
    "w = 5.4\n",
    "e = 7j\n",
    "print(type(q))\n",
    "print(type(w))\n",
    "print(type(e))"
   ]
  },
  {
   "cell_type": "markdown",
   "metadata": {
    "application/vnd.databricks.v1+cell": {
     "cellMetadata": {},
     "inputWidgets": {},
     "nuid": "6b43c7ca-c387-4844-b183-a2b77a2b9c8f",
     "showTitle": false,
     "tableResultSettingsMap": {},
     "title": ""
    }
   },
   "source": [
    "### CONVERSION OF NUMBERS"
   ]
  },
  {
   "cell_type": "code",
   "execution_count": 0,
   "metadata": {
    "application/vnd.databricks.v1+cell": {
     "cellMetadata": {
      "byteLimit": 2048000,
      "rowLimit": 10000
     },
     "inputWidgets": {},
     "nuid": "8c3d99f5-71de-4975-9f8e-1edf788f8a2a",
     "showTitle": false,
     "tableResultSettingsMap": {},
     "title": ""
    }
   },
   "outputs": [
    {
     "output_type": "stream",
     "name": "stdout",
     "output_type": "stream",
     "text": [
      "Original Data Type\n( 1 ) <class 'int'>\n( 5.4 ) <class 'float'>\n( 7j ) <class 'complex'>\nConverted Datatypes\n( 1.0 ) <class 'float'>\n( 7j ) <class 'complex'>\n( 5 ) <class 'int'>\n"
     ]
    }
   ],
   "source": [
    "# Original Data Types\n",
    "q = 1\n",
    "w = 5.4\n",
    "e = 7j\n",
    "print(\"Original Data Type\")\n",
    "print(\"(\", q, \")\",  type(q))\n",
    "print(\"(\", w, \")\", type(w))\n",
    "print(\"(\", e, \")\", type(e))\n",
    "\n",
    "# Conversion of Data types\n",
    "a = float(q)\n",
    "s = complex(e)\n",
    "d = int(w)\n",
    "print(\"Converted Datatypes\")\n",
    "print(\"(\", a, \")\", type(a))\n",
    "print(\"(\", s, \")\", type(s))\n",
    "print(\"(\", d, \")\", type(d))"
   ]
  },
  {
   "cell_type": "markdown",
   "metadata": {
    "application/vnd.databricks.v1+cell": {
     "cellMetadata": {},
     "inputWidgets": {},
     "nuid": "00eea384-3176-481b-891e-5df506b25d07",
     "showTitle": false,
     "tableResultSettingsMap": {},
     "title": ""
    }
   },
   "source": [
    "### RANDOM NUMBER"
   ]
  },
  {
   "cell_type": "code",
   "execution_count": 0,
   "metadata": {
    "application/vnd.databricks.v1+cell": {
     "cellMetadata": {
      "byteLimit": 2048000,
      "rowLimit": 10000
     },
     "inputWidgets": {},
     "nuid": "9f9fcb31-22a2-475f-a69b-16c7a254cb49",
     "showTitle": false,
     "tableResultSettingsMap": {},
     "title": ""
    }
   },
   "outputs": [
    {
     "output_type": "stream",
     "name": "stdout",
     "output_type": "stream",
     "text": [
      "2\n"
     ]
    }
   ],
   "source": [
    "# Generating Random Numbers\n",
    "import random\n",
    "print(random.randrange(1,10))"
   ]
  }
 ],
 "metadata": {
  "application/vnd.databricks.v1+notebook": {
   "computePreferences": null,
   "dashboards": [],
   "environmentMetadata": {
    "base_environment": "",
    "environment_version": "2"
   },
   "inputWidgetPreferences": null,
   "language": "python",
   "notebookMetadata": {
    "pythonIndentUnit": 4
   },
   "notebookName": "Numbers",
   "widgets": {}
  },
  "language_info": {
   "name": "python"
  }
 },
 "nbformat": 4,
 "nbformat_minor": 0
}