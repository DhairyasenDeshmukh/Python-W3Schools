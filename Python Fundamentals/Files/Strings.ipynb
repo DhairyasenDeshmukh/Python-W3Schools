{
 "cells": [
  {
   "cell_type": "markdown",
   "metadata": {
    "application/vnd.databricks.v1+cell": {
     "cellMetadata": {},
     "inputWidgets": {},
     "nuid": "314403bc-d7d5-4b91-acc4-5390865be100",
     "showTitle": false,
     "tableResultSettingsMap": {},
     "title": ""
    }
   },
   "source": [
    "### WORKING WITH STRING"
   ]
  },
  {
   "cell_type": "code",
   "execution_count": 0,
   "metadata": {
    "application/vnd.databricks.v1+cell": {
     "cellMetadata": {
      "byteLimit": 2048000,
      "rowLimit": 10000
     },
     "inputWidgets": {},
     "nuid": "f6f72adf-98cb-40f8-8cf6-c9e7724d0cb7",
     "showTitle": false,
     "tableResultSettingsMap": {},
     "title": ""
    }
   },
   "outputs": [
    {
     "output_type": "stream",
     "name": "stdout",
     "output_type": "stream",
     "text": [
      "SINGLE LINE STRINGS:\n\nStellar Blade\nBlacl Wall\nKusunagi\nMorgan Blackhand\n____________________________________________________________________________________\n\nMULTI LINE STRING:\n \nI think, therefore I am — yet what is this “I” that thinks? All that I perceive could be a dream, every sensation an illusion woven by some unseen force. \nIf my senses deceive me, and my memories may be false, what remains? Only the undeniable fact that in doubting, I am thinking, and in thinking, I exist. \nBeyond this solitary certainty, the entire universe may be nothing more than a projection of my mind.\n\n____________________________________________________________________________________\n\nLength of the strings\n\nThe length of the string 'g', 'h', 'i' are respectively: 13 , 10 , 8\nThe length of the multistring is:  412\n"
     ]
    }
   ],
   "source": [
    "# Various ways to write strings\n",
    "seperation = \"____________________________________________________________________________________\"\n",
    "g = \"Stellar Blade\"\n",
    "h = 'Blacl Wall'\n",
    "i = str('Kusunagi')\n",
    "print(\"SINGLE LINE STRINGS:\\n\", g, h, i, \"Morgan Blackhand\", sep=\"\\n\")\n",
    "print(seperation)\n",
    "\n",
    "# MultiLine Strings\n",
    "multilinestring = '''\n",
    "I think, therefore I am — yet what is this “I” that thinks? All that I perceive could be a dream, every sensation an illusion woven by some unseen force. \n",
    "If my senses deceive me, and my memories may be false, what remains? Only the undeniable fact that in doubting, I am thinking, and in thinking, I exist. \n",
    "Beyond this solitary certainty, the entire universe may be nothing more than a projection of my mind.\n",
    "'''\n",
    "print(\"\\nMULTI LINE STRING:\\n\", multilinestring)\n",
    "print(seperation)\n",
    "\n",
    "# Length of the String\n",
    "print(\"\\nLength of the strings\\n\")\n",
    "print(\"The length of the string 'g', 'h', 'i' are respectively:\", len(g), \",\", len(h), \",\",  len(i))\n",
    "print(\"The length of the multistring is: \", len(multilinestring))"
   ]
  },
  {
   "cell_type": "markdown",
   "metadata": {
    "application/vnd.databricks.v1+cell": {
     "cellMetadata": {},
     "inputWidgets": {},
     "nuid": "c7a270fa-ddce-4abb-97a9-5b329e9c51b7",
     "showTitle": false,
     "tableResultSettingsMap": {},
     "title": ""
    }
   },
   "source": [
    "### ARRAYS"
   ]
  },
  {
   "cell_type": "code",
   "execution_count": 0,
   "metadata": {
    "application/vnd.databricks.v1+cell": {
     "cellMetadata": {
      "byteLimit": 2048000,
      "rowLimit": 10000
     },
     "inputWidgets": {},
     "nuid": "556d24d8-61e8-48e9-968d-5c4e910fe37b",
     "showTitle": false,
     "tableResultSettingsMap": {},
     "title": ""
    }
   },
   "outputs": [
    {
     "output_type": "stream",
     "name": "stdout",
     "output_type": "stream",
     "text": [
      "Arrays of the String: \n\nIndex 0 :  D\nIndex 1 :  a\nIndex 2 :  r\nIndex 3 :  t\nIndex 4 :  h\nIndex 5 :    (Space is inlcuded)\n____________________________________________________________________________________\n\nLooping through String:\n\nD\na\nr\nt\nh\n \nV\na\nd\ne\nr\n"
     ]
    }
   ],
   "source": [
    "# Printing index based characters from string\n",
    "a = \"Darth Vader\"\n",
    "print(\"Arrays of the String: \\n\")\n",
    "print(\"Index 0 : \", a[0])\n",
    "print(\"Index 1 : \", a[1])\n",
    "print(\"Index 2 : \", a[2])\n",
    "print(\"Index 3 : \", a[3])\n",
    "print(\"Index 4 : \", a[4])\n",
    "print(\"Index 5 : \", a[5], \"(Space is inlcuded)\")\n",
    "print(seperation)\n",
    "\n",
    "# Looping through String\n",
    "print(\"\\nLooping through String:\\n\")\n",
    "for i in a:\n",
    "  print(i)"
   ]
  },
  {
   "cell_type": "markdown",
   "metadata": {
    "application/vnd.databricks.v1+cell": {
     "cellMetadata": {},
     "inputWidgets": {},
     "nuid": "ce481873-c4a9-45c7-ae9b-e996d14d0811",
     "showTitle": false,
     "tableResultSettingsMap": {},
     "title": ""
    }
   },
   "source": [
    "### CHECKING STRING CONTAINS OR NOT"
   ]
  },
  {
   "cell_type": "code",
   "execution_count": 0,
   "metadata": {
    "application/vnd.databricks.v1+cell": {
     "cellMetadata": {
      "byteLimit": 2048000,
      "rowLimit": 10000
     },
     "inputWidgets": {},
     "nuid": "08515580-c349-4582-9d6b-038724de0970",
     "showTitle": false,
     "tableResultSettingsMap": {},
     "title": ""
    }
   },
   "outputs": [
    {
     "output_type": "stream",
     "name": "stdout",
     "output_type": "stream",
     "text": [
      "Checking if there is 'illusion' in the multilinestring or not: \nYes, 'illusion' is present in multilinestring\n____________________________________________________________________________________\n\nChecking if 'zoltrox' is NOT in the multilinestring : \nNo, 'zoltrox' is not present in multilinestring\n"
     ]
    }
   ],
   "source": [
    "# Check if certain phrase is in the string or not\n",
    "print(\"Checking if there is 'illusion' in the multilinestring or not: \")\n",
    "if \"illusion\" in multilinestring:\n",
    "    print(\"Yes, 'illusion' is present in multilinestring\")\n",
    "else:\n",
    "    print(\"No, 'illusion' is not present in multilinestring\")\n",
    "print(seperation)\n",
    "\n",
    "# Check if certain phrase is NOT in the string\n",
    "print(\"\\nChecking if 'zoltrox' is NOT in the multilinestring : \")\n",
    "if \"zoltrox\" not in multilinestring:\n",
    "    print(\"No, 'zoltrox' is not present in multilinestring\")\n",
    "else:\n",
    "    print(\"Yes, 'zoltrox' is present in multilinestring\")"
   ]
  },
  {
   "cell_type": "markdown",
   "metadata": {
    "application/vnd.databricks.v1+cell": {
     "cellMetadata": {},
     "inputWidgets": {},
     "nuid": "558cf6b9-d8ad-471c-9ea5-b45c1596f417",
     "showTitle": false,
     "tableResultSettingsMap": {},
     "title": ""
    }
   },
   "source": [
    "### SLICING"
   ]
  },
  {
   "cell_type": "code",
   "execution_count": 0,
   "metadata": {
    "application/vnd.databricks.v1+cell": {
     "cellMetadata": {
      "byteLimit": 2048000,
      "rowLimit": 10000
     },
     "inputWidgets": {},
     "nuid": "385f90a7-bb9e-4439-867e-f5f514bb20e8",
     "showTitle": false,
     "tableResultSettingsMap": {},
     "title": ""
    }
   },
   "outputs": [
    {
     "output_type": "stream",
     "name": "stdout",
     "output_type": "stream",
     "text": [
      "uar  : x[2:5]\nSquar  : x[:5]\nre Enix  : x[4:]\n En  : x[-5:-2]\n"
     ]
    }
   ],
   "source": [
    "# Different methods of slicing\n",
    "x = \"Square Enix\"\n",
    "print(x[2:5], \" : x[2:5]\")\t\t    # Prints from index 2 to 4 (5 is non inclusive)\n",
    "print(x[:5], \" : x[:5]\")\t\t    # Prints from start to 4th index\n",
    "print(x[4:], \" : x[4:]\")\t\t    # Prints from 4th to last index\n",
    "print(x[-5:-2], \" : x[-5:-2]\")\t\t# Prints from last 5th index to last 2 index"
   ]
  },
  {
   "cell_type": "markdown",
   "metadata": {
    "application/vnd.databricks.v1+cell": {
     "cellMetadata": {},
     "inputWidgets": {},
     "nuid": "7d870f46-bca0-41b2-b409-6aa707c5f230",
     "showTitle": false,
     "tableResultSettingsMap": {},
     "title": ""
    }
   },
   "source": [
    "### MODIFYING STRINGS"
   ]
  },
  {
   "cell_type": "code",
   "execution_count": 0,
   "metadata": {
    "application/vnd.databricks.v1+cell": {
     "cellMetadata": {
      "byteLimit": 2048000,
      "rowLimit": 10000
     },
     "inputWidgets": {},
     "nuid": "478da97e-69a9-4884-bde7-9d6f074a45df",
     "showTitle": false,
     "tableResultSettingsMap": {},
     "title": ""
    }
   },
   "outputs": [
    {
     "output_type": "stream",
     "name": "stdout",
     "output_type": "stream",
     "text": [
      "original : \t          Culture - Vulture             \nUpper case : \t          CULTURE - VULTURE             \nLower case : \t          culture - vulture             \nWhitespaces : \t Culture - Vulture\nReplaced : \t          Culture - Vulture             \nSplit string : \t ['         Culture ', ' Vulture             ']\nCULTURE - VULTURE\n"
     ]
    }
   ],
   "source": [
    "# Creating Global text variable\n",
    "txt = \"         Culture - Vulture             \"\n",
    "upper_case = txt.upper()\n",
    "lower_case = txt.lower()\n",
    "rmv_whtspcs = txt.strip()\n",
    "replace = txt.replace(\"Amazeballs\", \"\")\n",
    "spliting = txt.split(\"-\")\n",
    "\n",
    "# Printing outputs\n",
    "print(\"original : \\t\", txt)\n",
    "print(\"Upper case : \\t\", upper_case)\n",
    "print(\"Lower case : \\t\", lower_case)\n",
    "print(\"Whitespaces : \\t\", rmv_whtspcs)\n",
    "print(\"Replaced : \\t\", replace)\n",
    "print(\"Split string : \\t\", spliting)\n",
    "\n",
    "# Trying multiple operations on a single string\n",
    "print(txt.strip().upper())"
   ]
  },
  {
   "cell_type": "markdown",
   "metadata": {
    "application/vnd.databricks.v1+cell": {
     "cellMetadata": {},
     "inputWidgets": {},
     "nuid": "0dddc333-49c2-47ba-9ab8-9d48ad307b25",
     "showTitle": false,
     "tableResultSettingsMap": {},
     "title": ""
    }
   },
   "source": [
    "### CONCATENATION"
   ]
  },
  {
   "cell_type": "code",
   "execution_count": 0,
   "metadata": {
    "application/vnd.databricks.v1+cell": {
     "cellMetadata": {
      "byteLimit": 2048000,
      "rowLimit": 10000
     },
     "inputWidgets": {},
     "nuid": "88278393-f047-4579-9045-1d87cbb3821f",
     "showTitle": false,
     "tableResultSettingsMap": {},
     "title": ""
    }
   },
   "outputs": [
    {
     "output_type": "stream",
     "name": "stdout",
     "output_type": "stream",
     "text": [
      "j = \"Johnny\"\ns = \"Silverhand\"\nJohnnySilverhand\n\nju = \"Judy\"\nJudy Alvarez\n"
     ]
    }
   ],
   "source": [
    "# Adding two different strings\n",
    "j = \"Johnny\"\n",
    "s = \"Silverhand\"\n",
    "js = j + s\n",
    "print('j = \"Johnny\"')\n",
    "print('s = \"Silverhand\"')\n",
    "print(js)\n",
    "\n",
    "# Adding string in print statement\n",
    "ju = \"Judy\"\n",
    "print('\\nju = \"Judy\"')\n",
    "print(ju + \" Alvarez\")"
   ]
  },
  {
   "cell_type": "markdown",
   "metadata": {
    "application/vnd.databricks.v1+cell": {
     "cellMetadata": {},
     "inputWidgets": {},
     "nuid": "6ccb1693-7492-4e8b-a3a2-58f0075e5790",
     "showTitle": false,
     "tableResultSettingsMap": {},
     "title": ""
    }
   },
   "source": [
    "### FORMAT STRINGS"
   ]
  },
  {
   "cell_type": "code",
   "execution_count": 0,
   "metadata": {
    "application/vnd.databricks.v1+cell": {
     "cellMetadata": {
      "byteLimit": 2048000,
      "rowLimit": 10000
     },
     "inputWidgets": {},
     "nuid": "11182623-6ee4-42a7-9a7f-d2396b0db740",
     "showTitle": false,
     "tableResultSettingsMap": {},
     "title": ""
    }
   },
   "outputs": [
    {
     "output_type": "stream",
     "name": "stdout",
     "output_type": "stream",
     "text": [
      "My name is John, and I am 36\nI want 3 pieces of item 567 for 49.95 dollars.\nI want to pay 49.95 dollars for 3 pieces of item 567.\n"
     ]
    }
   ],
   "source": [
    "# Using format function\n",
    "age = 36\n",
    "txt = \"My name is John, and I am {}\"\n",
    "print(txt.format(age))\n",
    "\n",
    "# Using format function with multiple arguments\n",
    "quantity = 3\n",
    "itemno = 567\n",
    "price = 49.95\n",
    "myorder = \"I want {} pieces of item {} for {} dollars.\"\n",
    "print(myorder.format(quantity, itemno, price))\n",
    "\n",
    "# Using format function with index numbers\n",
    "quantity = 3\n",
    "itemno = 567\n",
    "price = 49.95\n",
    "myorder = \"I want to pay {2} dollars for {0} pieces of item {1}.\"\n",
    "print(myorder.format(quantity, itemno, price))"
   ]
  },
  {
   "cell_type": "markdown",
   "metadata": {
    "application/vnd.databricks.v1+cell": {
     "cellMetadata": {},
     "inputWidgets": {},
     "nuid": "05b4cf72-ac3a-47e1-81b6-e5e468dcf03b",
     "showTitle": false,
     "tableResultSettingsMap": {},
     "title": ""
    }
   },
   "source": [
    "### ESCAPE CHARACTERS\n",
    "\n",
    "\n",
    "- \\\\'\tSingle Quote\n",
    "\n",
    "- \\\\\\\tBackslash\t\n",
    "\n",
    "- \\\\n\tNew Line\t\n",
    "- \\\\r\tCarriage Return\t\n",
    "- \\\\t\tTab\t\n",
    "- \\\\b\tBackspace\t\n",
    "- \\\\f\tForm Feed\t\n",
    "- \\\\ooo\tOctal value\t\n",
    "- \\\\xhh\tHex value"
   ]
  },
  {
   "cell_type": "markdown",
   "metadata": {
    "application/vnd.databricks.v1+cell": {
     "cellMetadata": {},
     "inputWidgets": {},
     "nuid": "049b4dec-6697-4575-be2d-f93b162366af",
     "showTitle": false,
     "tableResultSettingsMap": {},
     "title": ""
    }
   },
   "source": [
    "### STRING METHODS\n",
    "\n",
    "Method\t\tDescription\n",
    "\n",
    "- capitalize()\tConverts the first character to upper case\n",
    "- casefold()\tConverts string into lower case\n",
    "- center()\tReturns a centered string\n",
    "- count()\t\tReturns the number of times a specified value occurs in a string\n",
    "- encode()\tReturns an encoded version of the string\n",
    "- endswith()\tReturns true if the string ends with the specified value\n",
    "- expandtabs()\tSets the tab size of the string\n",
    "- find()\t\tSearches the string for a specified value and returns the position of where it was found\n",
    "- format()\tFormats specified values in a string\n",
    "- format_map()\tFormats specified values in a string\n",
    "- index()\t\tSearches the string for a specified value and returns the position of where it was found\n",
    "- isalnum()\tReturns True if all characters in the string are alphanumeric\n",
    "- isalpha()\tReturns True if all characters in the string are in the alphabet\n",
    "- isascii()\tReturns True if all characters in the string are ascii characters\n",
    "- isdecimal()\tReturns True if all characters in the string are decimals\n",
    "- isdigit()\tReturns True if all characters in the string are digits\n",
    "- isidentifier()\tReturns True if the string is an identifier\n",
    "- islower()\tReturns True if all characters in the string are lower case\n",
    "- isnumeric()\tReturns True if all characters in the string are numeric\n",
    "- isprintable()\tReturns True if all characters in the string are printable\n",
    "- isspace()\tReturns True if all characters in the string are whitespaces\n",
    "- istitle()\tReturns True if the string follows the rules of a title\n",
    "- isupper()\tReturns True if all characters in the string are upper case\n",
    "- join()\t\tJoins the elements of an iterable to the end of the string\n",
    "- ljust()\t\tReturns a left justified version of the string\n",
    "- lower()\t\tConverts a string into lower case\n",
    "- lstrip()\tReturns a left trim version of the string\n",
    "- maketrans()\tReturns a translation table to be used in translations\n",
    "- partition()\tReturns a tuple where the string is parted into three parts\n",
    "- replace()\tReturns a string where a specified value is replaced with a specified value\n",
    "- rfind()\t\tSearches the string for a specified value and returns the last position of where it was - found\n",
    "- rindex()\tSearches the string for a specified value and returns the last position of where it was found\n",
    "- rjust()\t\tReturns a right justified version of the string\n",
    "- rpartition()\tReturns a tuple where the string is parted into three parts\n",
    "- rsplit()\tSplits the string at the specified separator, and returns a list\n",
    "- rstrip()\tReturns a right trim version of the string\n",
    "- split()\t\tSplits the string at the specified separator, and returns a list\n",
    "- splitlines()\tSplits the string at line breaks and returns a list\n",
    "- startswith()\tReturns true if the string starts with the specified value\n",
    "- strip()\t\tReturns a trimmed version of the string\n",
    "- swapcase()\tSwaps cases, lower case becomes upper case and vice versa\n",
    "- title()\t\tConverts the first character of each word to upper case\n",
    "- translate()\tReturns a translated string\n",
    "- upper()\t\tConverts a string into upper case\n",
    "zfill()\t\tFills the string with a specified number of 0 values at the beginning"
   ]
  }
 ],
 "metadata": {
  "application/vnd.databricks.v1+notebook": {
   "computePreferences": null,
   "dashboards": [],
   "environmentMetadata": {
    "base_environment": "",
    "environment_version": "2"
   },
   "inputWidgetPreferences": null,
   "language": "python",
   "notebookMetadata": {
    "pythonIndentUnit": 4
   },
   "notebookName": "Strings",
   "widgets": {}
  },
  "language_info": {
   "name": "python"
  }
 },
 "nbformat": 4,
 "nbformat_minor": 0
}