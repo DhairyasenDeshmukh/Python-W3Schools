{
 "cells": [
  {
   "cell_type": "markdown",
   "metadata": {
    "application/vnd.databricks.v1+cell": {
     "cellMetadata": {},
     "inputWidgets": {},
     "nuid": "c6cea73a-f968-4af7-8d31-62d1938334b3",
     "showTitle": false,
     "tableResultSettingsMap": {},
     "title": ""
    }
   },
   "source": [
    "### PYTHON OPERATORS\n",
    "These are divided into the following groups.\n",
    "- Arithmetic operators\n",
    "- Assignment operators\n",
    "- Comparison operators\n",
    "- Logical operators\n",
    "- Identity operators\n",
    "- Membership operators\n",
    "- Bitwise operators"
   ]
  },
  {
   "cell_type": "markdown",
   "metadata": {
    "application/vnd.databricks.v1+cell": {
     "cellMetadata": {},
     "inputWidgets": {},
     "nuid": "8cd5e9ee-7ab5-4027-9a6a-043d7e7ce80b",
     "showTitle": false,
     "tableResultSettingsMap": {},
     "title": ""
    }
   },
   "source": [
    "ARITHMETIC OPERATORS"
   ]
  },
  {
   "cell_type": "code",
   "execution_count": 0,
   "metadata": {
    "application/vnd.databricks.v1+cell": {
     "cellMetadata": {
      "byteLimit": 2048000,
      "rowLimit": 10000
     },
     "inputWidgets": {},
     "nuid": "f015af0d-ce9a-4deb-8f63-1d497e745b04",
     "showTitle": false,
     "tableResultSettingsMap": {},
     "title": ""
    }
   },
   "outputs": [
    {
     "output_type": "stream",
     "name": "stdout",
     "output_type": "stream",
     "text": [
      "Addition 25.0\nSubstraction 15.0\nMultiplication 100.0\nDivision 4.0\nModulus 0.0\nExponential 3200000.0\nFloor Division 4.0\n"
     ]
    }
   ],
   "source": [
    "a = 20.0\n",
    "s = 5.0\n",
    "print(\"Addition\", a+s)          # Addition\n",
    "print(\"Substraction\", a-s)      # Substraction\n",
    "print(\"Multiplication\", a*s)    # Multiplication\n",
    "print(\"Division\", a/s)          # Division\n",
    "print(\"Modulus\", a%s)           # Modulus\n",
    "print(\"Exponential\", a**s)      # Exponential\n",
    "print(\"Floor Division\", a//s)   # Floor Division"
   ]
  },
  {
   "cell_type": "markdown",
   "metadata": {
    "application/vnd.databricks.v1+cell": {
     "cellMetadata": {},
     "inputWidgets": {},
     "nuid": "25906c5f-82d3-45d1-aa14-ac1bc0bd6101",
     "showTitle": false,
     "tableResultSettingsMap": {},
     "title": ""
    }
   },
   "source": [
    "ASSIGNMENT OPERATORS"
   ]
  },
  {
   "cell_type": "code",
   "execution_count": 0,
   "metadata": {
    "application/vnd.databricks.v1+cell": {
     "cellMetadata": {
      "byteLimit": 2048000,
      "rowLimit": 10000
     },
     "inputWidgets": {},
     "nuid": "43fdd037-9771-4b03-8717-9e0a4f9e1787",
     "showTitle": false,
     "tableResultSettingsMap": {},
     "title": ""
    }
   },
   "outputs": [
    {
     "output_type": "display_data",
     "data": {
      "text/plain": [
       "Enter Value:  5"
      ]
     },
     "metadata": {},
     "output_type": "display_data"
    },
    {
     "output_type": "stream",
     "name": "stdout",
     "output_type": "stream",
     "text": [
      "a +=1:  6\na-=1:  5\na*=2:  10\na/=2:  5.0\na%=2:  1\na//=3:  0\na**=2:  0\na&=2:  0\na|=2:  2\na^=2:  0\na>>=2:  0\na<<=2:  0\nPrint bool:  9\n"
     ]
    }
   ],
   "source": [
    "a = int(input(\"Enter Value: \"))\n",
    "a +=1                    # Increments the value of variable by 1\n",
    "print(\"a +=1: \",a)\n",
    "a-=1\n",
    "print(\"a-=1: \", a)       # Decrements the value of variable by 1\n",
    "a*=2\n",
    "print(\"a*=2: \", a)       # Multiplies the value of variable by 2\n",
    "a/=2\n",
    "print(\"a/=2: \", a)       # Divides the value of variable by 2\n",
    "a = int(a)\n",
    "a%=2\n",
    "print(\"a%=2: \", a)       # Returns the remainder of the value of variable by 2\n",
    "a//=3\n",
    "print(\"a//=3: \", a)      # Floor Division of the value of variable by 3\n",
    "a**=2\n",
    "print(\"a**=2: \", a)      # Exponential of the value of variable by 2\n",
    "a&=2\n",
    "print(\"a&=2: \", a)       # Bitwise AND of the value of variable by 2\n",
    "a|=2\n",
    "print(\"a|=2: \", a)       # Bitwise OR of the value of variable by 2\n",
    "a^=2\n",
    "print(\"a^=2: \", a)       # Bitwise XOR of the value of variable by 2\n",
    "a>>=2\n",
    "print(\"a>>=2: \", a)      # Bitwise Right Shift of the value of variable by 2\n",
    "a<<=2\n",
    "print(\"a<<=2: \", a)      # Bitwise Left Shift of the value of variable by 2\n",
    "print(\"Print bool: \", a:=9) # Return if the argument"
   ]
  },
  {
   "cell_type": "markdown",
   "metadata": {
    "application/vnd.databricks.v1+cell": {
     "cellMetadata": {},
     "inputWidgets": {},
     "nuid": "447809d2-119f-408d-b927-49b6276e6815",
     "showTitle": false,
     "tableResultSettingsMap": {},
     "title": ""
    }
   },
   "source": [
    "COMPARISON OPERATOR"
   ]
  },
  {
   "cell_type": "code",
   "execution_count": 0,
   "metadata": {
    "application/vnd.databricks.v1+cell": {
     "cellMetadata": {
      "byteLimit": 2048000,
      "rowLimit": 10000
     },
     "inputWidgets": {},
     "nuid": "41f5355c-7ba5-410e-83c4-3f745c0db4f3",
     "showTitle": false,
     "tableResultSettingsMap": {},
     "title": ""
    }
   },
   "outputs": [
    {
     "output_type": "stream",
     "name": "stdout",
     "output_type": "stream",
     "text": [
      "x == y:  False\nx != y:  True\nx > y:  False\nx < y:  True\nx <= y:  True\nx >=y:  False\n"
     ]
    }
   ],
   "source": [
    "x = 10\n",
    "y = 20\n",
    "print(\"x == y: \", x == y)       # Checks if both variables are equal\n",
    "print(\"x != y: \", x != y)       # Checks if both variables are not equal\n",
    "print(\"x > y: \", x > y)         # Checks if x is greater than y\n",
    "print(\"x < y: \", x < y)         # Checks if y is greater than x\n",
    "print(\"x <= y: \", x <= y)       # Checks if x is less than or equal to y\n",
    "print(\"x >=y: \", x >=y)         # Checks if x is greater than or equal to y"
   ]
  },
  {
   "cell_type": "markdown",
   "metadata": {
    "application/vnd.databricks.v1+cell": {
     "cellMetadata": {},
     "inputWidgets": {},
     "nuid": "1ea96c7a-4124-47e4-a313-2b12d4c5f849",
     "showTitle": false,
     "tableResultSettingsMap": {},
     "title": ""
    }
   },
   "source": [
    "LOGOCAL OPERATORS"
   ]
  },
  {
   "cell_type": "code",
   "execution_count": 0,
   "metadata": {
    "application/vnd.databricks.v1+cell": {
     "cellMetadata": {
      "byteLimit": 2048000,
      "rowLimit": 10000
     },
     "inputWidgets": {},
     "nuid": "52a0ff55-58ef-490d-81d1-59e30cb66868",
     "showTitle": false,
     "tableResultSettingsMap": {},
     "title": ""
    }
   },
   "outputs": [
    {
     "output_type": "stream",
     "name": "stdout",
     "output_type": "stream",
     "text": [
      "q > w and w > q  :  False\nq > w or w > q  :  True\nReverse: (q > w and w > q)  :  True\nReverse: (q > w or w > q)  :  False\n"
     ]
    }
   ],
   "source": [
    "q = 10\n",
    "w = 20\n",
    "print(\"q > w and w > q  : \", q>w and w>q)                   # Returns True if both statements are true\n",
    "print(\"q > w or w > q  : \", q>w or w>q)                     # Returns True if one of the statements is true\n",
    "print(\"Reverse: (q > w and w > q)  : \", not(q>w and w>q))   # Reverse the result \n",
    "print(\"Reverse: (q > w or w > q)  : \", not(q>w or w>q))     # Reverse the result\n"
   ]
  },
  {
   "cell_type": "markdown",
   "metadata": {
    "application/vnd.databricks.v1+cell": {
     "cellMetadata": {},
     "inputWidgets": {},
     "nuid": "2270b689-f102-4f04-b055-7840952006b1",
     "showTitle": false,
     "tableResultSettingsMap": {},
     "title": ""
    }
   },
   "source": [
    "IDENTITY OPERATORS"
   ]
  },
  {
   "cell_type": "code",
   "execution_count": 0,
   "metadata": {
    "application/vnd.databricks.v1+cell": {
     "cellMetadata": {
      "byteLimit": 2048000,
      "rowLimit": 10000
     },
     "inputWidgets": {},
     "nuid": "8001ac88-0609-431b-a4fe-5c30465a81d6",
     "showTitle": false,
     "tableResultSettingsMap": {},
     "title": ""
    }
   },
   "outputs": [
    {
     "output_type": "stream",
     "name": "stdout",
     "output_type": "stream",
     "text": [
      "Is 'a' and 'b' same?:  False\nIs 'a' and 'c' same?:  True\nIs 'a' and 'b' not same?:  True\nIs 'a' and 'c' not same?:  False\n"
     ]
    }
   ],
   "source": [
    "a = \"Casket\"\n",
    "b = \"Coffin\"\n",
    "c = \"Casket\"\n",
    "print(\"Is 'a' and 'b' same?: \", a is b)   # Returns True if both variables are the same object\n",
    "print(\"Is 'a' and 'c' same?: \", a is c)   # Returns True if both variables are the same object\n",
    "print(\"Is 'a' and 'b' not same?: \", a is not b) # Returns True if both variables are not the same object\n",
    "print(\"Is 'a' and 'c' not same?: \", a is not c) # Returns True if both variables are not the same object"
   ]
  },
  {
   "cell_type": "markdown",
   "metadata": {
    "application/vnd.databricks.v1+cell": {
     "cellMetadata": {},
     "inputWidgets": {},
     "nuid": "41309e09-d782-4a19-8604-ab47ecd90ebe",
     "showTitle": false,
     "tableResultSettingsMap": {},
     "title": ""
    }
   },
   "source": [
    "MEMBERSHIP OPERATORS"
   ]
  },
  {
   "cell_type": "code",
   "execution_count": 0,
   "metadata": {
    "application/vnd.databricks.v1+cell": {
     "cellMetadata": {
      "byteLimit": 2048000,
      "rowLimit": 10000
     },
     "inputWidgets": {},
     "nuid": "8ed75c62-115a-4170-8635-16dfd0edbadd",
     "showTitle": false,
     "tableResultSettingsMap": {},
     "title": ""
    }
   },
   "outputs": [
    {
     "output_type": "stream",
     "name": "stdout",
     "output_type": "stream",
     "text": [
      "a in scale:  True\nb in scale:  False\na not in scale:  False\nb not in scale:  True\n"
     ]
    }
   ],
   "source": [
    "scale = range(1,11)\n",
    "a = 5\n",
    "b = 15\n",
    "print(\"a in scale: \", a in scale)           # Returns True if a is present in the range\n",
    "print(\"b in scale: \", b in scale)           # Returns True if b is present in the range\n",
    "print(\"a not in scale: \", a not in scale)   # Returns True if a is not present in the range\n",
    "print(\"b not in scale: \", b not in scale)   # Returns True if b is not present in the range"
   ]
  },
  {
   "cell_type": "markdown",
   "metadata": {
    "application/vnd.databricks.v1+cell": {
     "cellMetadata": {},
     "inputWidgets": {},
     "nuid": "f018170e-59a4-4766-a025-248b09c29808",
     "showTitle": false,
     "tableResultSettingsMap": {},
     "title": ""
    }
   },
   "source": [
    "BITWISE OPERATOR"
   ]
  },
  {
   "cell_type": "code",
   "execution_count": 0,
   "metadata": {
    "application/vnd.databricks.v1+cell": {
     "cellMetadata": {
      "byteLimit": 2048000,
      "rowLimit": 10000
     },
     "inputWidgets": {},
     "nuid": "02745a4c-41da-4f26-99a4-0fe3a20a0292",
     "showTitle": false,
     "tableResultSettingsMap": {},
     "title": ""
    }
   },
   "outputs": [
    {
     "output_type": "stream",
     "name": "stdout",
     "output_type": "stream",
     "text": [
      "a & b =  0\na | b =  14\n~a =  -11\na ^ b =  14\na >> 2 =  2\na << 2 =  40\n"
     ]
    }
   ],
   "source": [
    "# Examples of Bitwise Operators\n",
    "a = 10\n",
    "b = 4\n",
    "print(\"a & b = \", a & b)   # Bitwise AND\n",
    "print(\"a | b = \", a | b)   # Bitwise OR\n",
    "print(\"~a = \", ~a)         # Bitwise NOT\n",
    "print(\"a ^ b = \", a ^ b)   # Bitwise XOR\n",
    "print(\"a >> 2 = \", a >> 2) # Bitwise right shift\n",
    "print(\"a << 2 = \", a << 2) # Bitwise left shift"
   ]
  }
 ],
 "metadata": {
  "application/vnd.databricks.v1+notebook": {
   "computePreferences": null,
   "dashboards": [],
   "environmentMetadata": {
    "base_environment": "",
    "environment_version": "2"
   },
   "inputWidgetPreferences": null,
   "language": "python",
   "notebookMetadata": {
    "pythonIndentUnit": 4
   },
   "notebookName": "Operators",
   "widgets": {}
  },
  "language_info": {
   "name": "python"
  }
 },
 "nbformat": 4,
 "nbformat_minor": 0
}