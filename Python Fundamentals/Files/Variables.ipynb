{
 "cells": [
  {
   "cell_type": "markdown",
   "metadata": {
    "application/vnd.databricks.v1+cell": {
     "cellMetadata": {},
     "inputWidgets": {},
     "nuid": "579948cd-a65f-4e5d-a70e-d5cf69fcd439",
     "showTitle": false,
     "tableResultSettingsMap": {},
     "title": ""
    }
   },
   "source": [
    "### VARIABLES"
   ]
  },
  {
   "cell_type": "code",
   "execution_count": 0,
   "metadata": {
    "application/vnd.databricks.v1+cell": {
     "cellMetadata": {
      "byteLimit": 2048000,
      "rowLimit": 10000
     },
     "inputWidgets": {},
     "nuid": "d9a09446-0e67-46a6-9b94-93d958564f2e",
     "showTitle": false,
     "tableResultSettingsMap": {},
     "title": ""
    }
   },
   "outputs": [
    {
     "output_type": "stream",
     "name": "stdout",
     "output_type": "stream",
     "text": [
      "Warhammer\nZelda\n"
     ]
    }
   ],
   "source": [
    "# Declaring String variables\n",
    "# Using Single quoto ('') is similar to using double quote (\"\")\n",
    "q = \"Warhammer\"\n",
    "t = 'Zelda'\n",
    "print(q)\n",
    "print(t)"
   ]
  },
  {
   "cell_type": "code",
   "execution_count": 0,
   "metadata": {
    "application/vnd.databricks.v1+cell": {
     "cellMetadata": {
      "byteLimit": 2048000,
      "rowLimit": 10000
     },
     "inputWidgets": {},
     "nuid": "b48a2bce-6913-4362-a989-359668d14835",
     "showTitle": false,
     "tableResultSettingsMap": {},
     "title": ""
    }
   },
   "outputs": [
    {
     "output_type": "stream",
     "name": "stdout",
     "output_type": "stream",
     "text": [
      "Zarbon\nHimmel\n132\n132.345\nTrue\n"
     ]
    }
   ],
   "source": [
    "# Creating Variables \n",
    "a = \"Zarbon\"\n",
    "s = \"Himmel\"\n",
    "d = 132\n",
    "f = 132.345\n",
    "b = True\n",
    "print(a)\n",
    "print(s)\n",
    "print(d)\n",
    "print(f)\n",
    "print(b)"
   ]
  },
  {
   "cell_type": "code",
   "execution_count": 0,
   "metadata": {
    "application/vnd.databricks.v1+cell": {
     "cellMetadata": {
      "byteLimit": 2048000,
      "rowLimit": 10000
     },
     "inputWidgets": {},
     "nuid": "0e739571-1be3-4974-b40c-896b39a919a1",
     "showTitle": false,
     "tableResultSettingsMap": {},
     "title": ""
    }
   },
   "outputs": [
    {
     "output_type": "stream",
     "name": "stdout",
     "output_type": "stream",
     "text": [
      "5\nDhairyasen\n4\n158.551\n"
     ]
    }
   ],
   "source": [
    "# Casting\n",
    "a = int(5)\n",
    "s = str(\"Dhairyasen\")\n",
    "d = str (4)\n",
    "f = float(158.551)\n",
    "print(a)\n",
    "print(s)\n",
    "print(d)\n",
    "print(f)    "
   ]
  },
  {
   "cell_type": "code",
   "execution_count": 0,
   "metadata": {
    "application/vnd.databricks.v1+cell": {
     "cellMetadata": {
      "byteLimit": 2048000,
      "rowLimit": 10000
     },
     "inputWidgets": {},
     "nuid": "5611eb75-5a8c-4b72-8841-90b2d4f7877a",
     "showTitle": false,
     "tableResultSettingsMap": {},
     "title": ""
    }
   },
   "outputs": [
    {
     "output_type": "stream",
     "name": "stdout",
     "output_type": "stream",
     "text": [
      "<class 'int'>\n<class 'str'>\n"
     ]
    }
   ],
   "source": [
    "# Returning the data type of variable\n",
    "t = 25\n",
    "y = \"Malice\"\n",
    "print(type(t))\n",
    "print(type(y))"
   ]
  },
  {
   "cell_type": "markdown",
   "metadata": {
    "application/vnd.databricks.v1+cell": {
     "cellMetadata": {},
     "inputWidgets": {},
     "nuid": "dff5de39-c965-44c6-bedb-6908dddc0972",
     "showTitle": false,
     "tableResultSettingsMap": {},
     "title": ""
    }
   },
   "source": [
    "### VARIABLE NAMES"
   ]
  },
  {
   "cell_type": "code",
   "execution_count": 0,
   "metadata": {
    "application/vnd.databricks.v1+cell": {
     "cellMetadata": {
      "byteLimit": 2048000,
      "rowLimit": 10000
     },
     "inputWidgets": {},
     "nuid": "56ad06d7-ebb4-45da-bc44-27ff586ce9d9",
     "showTitle": false,
     "tableResultSettingsMap": {},
     "title": ""
    }
   },
   "outputs": [
    {
     "output_type": "stream",
     "name": "stdout",
     "output_type": "stream",
     "text": [
      "Ultron\nSupreme Being\nThe Land Shark\nThe Fantastic Four\n"
     ]
    }
   ],
   "source": [
    "# Correct variable name syntax\n",
    "u = \"Ultron\"\n",
    "Ultron = \"Supreme Being\"\n",
    "_Jeff = \"The Land Shark\"\n",
    "Fan4tastic = \"The Fantastic Four\"\n",
    "print(u)\n",
    "print(Ultron)\n",
    "print(_Jeff)\n",
    "print(Fan4tastic)"
   ]
  },
  {
   "cell_type": "code",
   "execution_count": 0,
   "metadata": {
    "application/vnd.databricks.v1+cell": {
     "cellMetadata": {
      "byteLimit": 2048000,
      "rowLimit": 10000
     },
     "inputWidgets": {},
     "nuid": "12df35de-3ab1-49a9-a797-6954110aa92e",
     "showTitle": false,
     "tableResultSettingsMap": {},
     "title": ""
    }
   },
   "outputs": [
    {
     "output_type": "display_data",
     "data": {
      "text/plain": [
       "\u001B[0;36m  File \u001B[0;32m<command-6280774377458163>, line 2\u001B[0;36m\u001B[0m\n",
       "\u001B[0;31m    2099 = \"Spiderman\"\u001B[0m\n",
       "\u001B[0m    ^\u001B[0m\n",
       "\u001B[0;31mSyntaxError\u001B[0m\u001B[0;31m:\u001B[0m cannot assign to literal here. Maybe you meant '==' instead of '='?\n"
      ]
     },
     "metadata": {
      "application/vnd.databricks.v1+output": {
       "addedWidgets": {},
       "arguments": {},
       "datasetInfos": [],
       "jupyterProps": {
        "ename": "SyntaxError",
        "evalue": "cannot assign to literal here. Maybe you meant '==' instead of '='? (command-6280774377458163-1103223691, line 2)"
       },
       "metadata": {
        "errorSummary": "<span class='ansi-red-fg'>SyntaxError</span>: cannot assign to literal here. Maybe you meant '==' instead of '='? (command-6280774377458163-1103223691, line 2)"
       },
       "removedWidgets": [],
       "sqlProps": null,
       "stackFrames": [
        "\u001B[0;36m  File \u001B[0;32m<command-6280774377458163>, line 2\u001B[0;36m\u001B[0m\n\u001B[0;31m    2099 = \"Spiderman\"\u001B[0m\n\u001B[0m    ^\u001B[0m\n\u001B[0;31mSyntaxError\u001B[0m\u001B[0;31m:\u001B[0m cannot assign to literal here. Maybe you meant '==' instead of '='?\n"
       ],
       "type": "baseError"
      }
     },
     "output_type": "display_data"
    }
   ],
   "source": [
    "# Incorrect variable name syntax\n",
    "2099 = \"Spiderman\"\n",
    "Tony-Stark = \"Ironman\"\n",
    "Steve Rogers = \"Captain America\"\n",
    "print(2099, Tony-Stark, Steve Rogers)"
   ]
  },
  {
   "cell_type": "markdown",
   "metadata": {
    "application/vnd.databricks.v1+cell": {
     "cellMetadata": {},
     "inputWidgets": {},
     "nuid": "c2b68338-38b1-48ef-9f5f-a5378e4d6aef",
     "showTitle": false,
     "tableResultSettingsMap": {},
     "title": ""
    }
   },
   "source": [
    "### MULTIPLE VARIABLES AND VALUES"
   ]
  },
  {
   "cell_type": "code",
   "execution_count": 0,
   "metadata": {
    "application/vnd.databricks.v1+cell": {
     "cellMetadata": {
      "byteLimit": 2048000,
      "rowLimit": 10000
     },
     "inputWidgets": {},
     "nuid": "30648388-a2e6-4e21-93b3-a6c9db73886e",
     "showTitle": false,
     "tableResultSettingsMap": {},
     "title": ""
    }
   },
   "outputs": [
    {
     "output_type": "stream",
     "name": "stdout",
     "output_type": "stream",
     "text": [
      "Red\nGreen\nBlue\n"
     ]
    }
   ],
   "source": [
    "# Assigning multiple values to multiple variables\n",
    "x, y, z = \"Red\", \"Green\", \"Blue\"\n",
    "print(x)\n",
    "print(y)\n",
    "print(z)"
   ]
  },
  {
   "cell_type": "code",
   "execution_count": 0,
   "metadata": {
    "application/vnd.databricks.v1+cell": {
     "cellMetadata": {
      "byteLimit": 2048000,
      "rowLimit": 10000
     },
     "inputWidgets": {},
     "nuid": "bd225570-e010-49ab-a604-891c2eb1ac6d",
     "showTitle": false,
     "tableResultSettingsMap": {},
     "title": ""
    }
   },
   "outputs": [
    {
     "output_type": "stream",
     "name": "stdout",
     "output_type": "stream",
     "text": [
      "Yellow\nYellow\nYellow\n"
     ]
    }
   ],
   "source": [
    "# Assigning same values to multiple variables\n",
    "x = y = z = \"Yellow\"\n",
    "print(x)\n",
    "print(y)\n",
    "print(z)"
   ]
  },
  {
   "cell_type": "markdown",
   "metadata": {
    "application/vnd.databricks.v1+cell": {
     "cellMetadata": {},
     "inputWidgets": {},
     "nuid": "9a80239d-7fcc-4f0e-89b6-333d19e3b6c8",
     "showTitle": false,
     "tableResultSettingsMap": {},
     "title": ""
    }
   },
   "source": [
    "### UNPACKING"
   ]
  },
  {
   "cell_type": "code",
   "execution_count": 0,
   "metadata": {
    "application/vnd.databricks.v1+cell": {
     "cellMetadata": {
      "byteLimit": 2048000,
      "rowLimit": 10000
     },
     "inputWidgets": {},
     "nuid": "48137858-224e-48a0-a1f3-48c5b4724b5b",
     "showTitle": false,
     "tableResultSettingsMap": {},
     "title": ""
    }
   },
   "outputs": [
    {
     "output_type": "stream",
     "name": "stdout",
     "output_type": "stream",
     "text": [
      "Cyberdeck\nBerserk\nSandevastan\n"
     ]
    }
   ],
   "source": [
    "# Unpacking\n",
    "Cyberware = [\"Cyberdeck\", \"Berserk\", \"Sandevastan\"]\n",
    "c, b, s = Cyberware\n",
    "print(c)\n",
    "print(b)\n",
    "print(s)"
   ]
  },
  {
   "cell_type": "markdown",
   "metadata": {
    "application/vnd.databricks.v1+cell": {
     "cellMetadata": {},
     "inputWidgets": {},
     "nuid": "eb7ee301-d52f-4b8a-83b2-77973d994515",
     "showTitle": false,
     "tableResultSettingsMap": {},
     "title": ""
    }
   },
   "source": [
    "### CONCATENATION WITH + OPERATOR"
   ]
  },
  {
   "cell_type": "code",
   "execution_count": 0,
   "metadata": {
    "application/vnd.databricks.v1+cell": {
     "cellMetadata": {
      "byteLimit": 2048000,
      "rowLimit": 10000
     },
     "inputWidgets": {},
     "nuid": "18aa767f-ab5a-44e0-b4aa-2f7fe20d084e",
     "showTitle": false,
     "tableResultSettingsMap": {},
     "title": ""
    }
   },
   "outputs": [
    {
     "output_type": "stream",
     "name": "stdout",
     "output_type": "stream",
     "text": [
      "<class 'str'> <class 'str'> <class 'str'>\nAston Broche Cambrel \n"
     ]
    }
   ],
   "source": [
    "# Concatenation of same data type\n",
    "a = \"Aston \"\n",
    "b = \"Broche \"\n",
    "c = \"Cambrel \"\n",
    "print(type(a),type(b),type(c))\t\n",
    "print(a + b + c)"
   ]
  },
  {
   "cell_type": "code",
   "execution_count": 0,
   "metadata": {
    "application/vnd.databricks.v1+cell": {
     "cellMetadata": {
      "byteLimit": 2048000,
      "rowLimit": 10000
     },
     "inputWidgets": {},
     "nuid": "b1476a22-ff99-465c-9987-cb82342cc4cd",
     "showTitle": false,
     "tableResultSettingsMap": {},
     "title": ""
    }
   },
   "outputs": [
    {
     "output_type": "stream",
     "name": "stdout",
     "output_type": "stream",
     "text": [
      "<class 'str'> <class 'int'>\n"
     ]
    },
    {
     "output_type": "display_data",
     "data": {
      "text/plain": [
       "\u001B[0;31m---------------------------------------------------------------------------\u001B[0m\n",
       "\u001B[0;31mTypeError\u001B[0m                                 Traceback (most recent call last)\n",
       "File \u001B[0;32m<command-6280774377458172>, line 4\u001B[0m\n",
       "\u001B[1;32m      2\u001B[0m s \u001B[38;5;241m=\u001B[39m \u001B[38;5;241m3\u001B[39m\n",
       "\u001B[1;32m      3\u001B[0m \u001B[38;5;28mprint\u001B[39m(\u001B[38;5;28mtype\u001B[39m(p),\u001B[38;5;28mtype\u001B[39m(s))\n",
       "\u001B[0;32m----> 4\u001B[0m \u001B[38;5;28mprint\u001B[39m(p \u001B[38;5;241m+\u001B[39m s)\n",
       "\n",
       "\u001B[0;31mTypeError\u001B[0m: can only concatenate str (not \"int\") to str"
      ]
     },
     "metadata": {
      "application/vnd.databricks.v1+output": {
       "addedWidgets": {},
       "arguments": {},
       "datasetInfos": [],
       "jupyterProps": {
        "ename": "TypeError",
        "evalue": "can only concatenate str (not \"int\") to str"
       },
       "metadata": {
        "errorSummary": "<span class='ansi-red-fg'>TypeError</span>: can only concatenate str (not \"int\") to str"
       },
       "removedWidgets": [],
       "sqlProps": null,
       "stackFrames": [
        "\u001B[0;31m---------------------------------------------------------------------------\u001B[0m",
        "\u001B[0;31mTypeError\u001B[0m                                 Traceback (most recent call last)",
        "File \u001B[0;32m<command-6280774377458172>, line 4\u001B[0m\n\u001B[1;32m      2\u001B[0m s \u001B[38;5;241m=\u001B[39m \u001B[38;5;241m3\u001B[39m\n\u001B[1;32m      3\u001B[0m \u001B[38;5;28mprint\u001B[39m(\u001B[38;5;28mtype\u001B[39m(p),\u001B[38;5;28mtype\u001B[39m(s))\n\u001B[0;32m----> 4\u001B[0m \u001B[38;5;28mprint\u001B[39m(p \u001B[38;5;241m+\u001B[39m s)\n",
        "\u001B[0;31mTypeError\u001B[0m: can only concatenate str (not \"int\") to str"
       ],
       "type": "baseError"
      }
     },
     "output_type": "display_data"
    }
   ],
   "source": [
    "# Concatenation of different data types\n",
    "p = \"prince\"\n",
    "s = 3\n",
    "print(type(p),type(s))\n",
    "print(p + s)\n"
   ]
  },
  {
   "cell_type": "code",
   "execution_count": 0,
   "metadata": {
    "application/vnd.databricks.v1+cell": {
     "cellMetadata": {
      "byteLimit": 2048000,
      "rowLimit": 10000
     },
     "inputWidgets": {},
     "nuid": "5528cdd7-4461-49da-b201-4156efbd4c20",
     "showTitle": false,
     "tableResultSettingsMap": {},
     "title": ""
    }
   },
   "outputs": [
    {
     "output_type": "stream",
     "name": "stdout",
     "output_type": "stream",
     "text": [
      "6.2\n<class 'int'> <class 'float'>\n"
     ]
    }
   ],
   "source": [
    "# Concatenation of different data type but from same field (Numeric)\n",
    "g = 3\n",
    "h = 3.2\n",
    "print(g + h)\n",
    "print(type(g)  type(h))"
   ]
  },
  {
   "cell_type": "markdown",
   "metadata": {
    "application/vnd.databricks.v1+cell": {
     "cellMetadata": {},
     "inputWidgets": {},
     "nuid": "e4422c7b-216f-48df-ad47-5b2cadb113bd",
     "showTitle": false,
     "tableResultSettingsMap": {},
     "title": ""
    }
   },
   "source": [
    "### GLOBAL VARIABLES"
   ]
  },
  {
   "cell_type": "code",
   "execution_count": 0,
   "metadata": {
    "application/vnd.databricks.v1+cell": {
     "cellMetadata": {
      "byteLimit": 2048000,
      "rowLimit": 10000
     },
     "inputWidgets": {},
     "nuid": "2159a473-4f4a-425b-90ff-f9bd8e781a59",
     "showTitle": false,
     "tableResultSettingsMap": {},
     "title": ""
    }
   },
   "outputs": [
    {
     "output_type": "stream",
     "name": "stdout",
     "output_type": "stream",
     "text": [
      "Burn Down Corpo Shit\nLets Burn Down this Corpo Shit | Local variable used inside the fucntion\nTrying to print local variable outside Function\n"
     ]
    },
    {
     "output_type": "display_data",
     "data": {
      "text/plain": [
       "\u001B[0;31m---------------------------------------------------------------------------\u001B[0m\n",
       "\u001B[0;31mNameError\u001B[0m                                 Traceback (most recent call last)\n",
       "File \u001B[0;32m<command-6280774377458175>, line 15\u001B[0m\n",
       "\u001B[1;32m     12\u001B[0m silverhand()\n",
       "\u001B[1;32m     14\u001B[0m \u001B[38;5;28mprint\u001B[39m(\u001B[38;5;124m\"\u001B[39m\u001B[38;5;124mTrying to print local variable outside Function\u001B[39m\u001B[38;5;124m\"\u001B[39m)\n",
       "\u001B[0;32m---> 15\u001B[0m \u001B[38;5;28mprint\u001B[39m(j)\n",
       "\n",
       "\u001B[0;31mNameError\u001B[0m: name 'j' is not defined"
      ]
     },
     "metadata": {
      "application/vnd.databricks.v1+output": {
       "addedWidgets": {},
       "arguments": {},
       "datasetInfos": [],
       "jupyterProps": {
        "ename": "NameError",
        "evalue": "name 'j' is not defined"
       },
       "metadata": {
        "errorSummary": "<span class='ansi-red-fg'>NameError</span>: name 'j' is not defined"
       },
       "removedWidgets": [],
       "sqlProps": null,
       "stackFrames": [
        "\u001B[0;31m---------------------------------------------------------------------------\u001B[0m",
        "\u001B[0;31mNameError\u001B[0m                                 Traceback (most recent call last)",
        "File \u001B[0;32m<command-6280774377458175>, line 15\u001B[0m\n\u001B[1;32m     12\u001B[0m silverhand()\n\u001B[1;32m     14\u001B[0m \u001B[38;5;28mprint\u001B[39m(\u001B[38;5;124m\"\u001B[39m\u001B[38;5;124mTrying to print local variable outside Function\u001B[39m\u001B[38;5;124m\"\u001B[39m)\n\u001B[0;32m---> 15\u001B[0m \u001B[38;5;28mprint\u001B[39m(j)\n",
        "\u001B[0;31mNameError\u001B[0m: name 'j' is not defined"
       ],
       "type": "baseError"
      }
     },
     "output_type": "display_data"
    }
   ],
   "source": [
    "# Creating a global variable\n",
    "v = \"Corpo Shit\"\n",
    "\n",
    "def samurai():\n",
    "    print(\"Burn Down \" + v)\n",
    "samurai()\n",
    "\n",
    "# Creating a local variable\n",
    "def silverhand():\n",
    "    j = \"Lets Burn Down this \"\n",
    "    print(j + v + \" | Local variable used inside the fucntion\")\n",
    "silverhand()\n",
    "\n",
    "print(\"Trying to print local variable outside Function\")\n",
    "print(j)"
   ]
  },
  {
   "cell_type": "code",
   "execution_count": 0,
   "metadata": {
    "application/vnd.databricks.v1+cell": {
     "cellMetadata": {
      "byteLimit": 2048000,
      "rowLimit": 10000
     },
     "inputWidgets": {},
     "nuid": "c28196fd-e299-4d45-a89c-b63e9a25cd94",
     "showTitle": false,
     "tableResultSettingsMap": {},
     "title": ""
    }
   },
   "outputs": [
    {
     "output_type": "stream",
     "name": "stdout",
     "output_type": "stream",
     "text": [
      "I was Born in Heywood\n"
     ]
    }
   ],
   "source": [
    "# Creating a global variable inside a function.\n",
    "def streetkid():\n",
    "    global x\n",
    "    x = \"I was Born in \"\n",
    "    global y \n",
    "    y = \"Heywood\"\n",
    "streetkid()\n",
    "\n",
    "print(x + y)"
   ]
  }
 ],
 "metadata": {
  "application/vnd.databricks.v1+notebook": {
   "computePreferences": {
    "hardware": {
     "accelerator": null,
     "gpuPoolId": null,
     "memory": null
    }
   },
   "dashboards": [],
   "environmentMetadata": {
    "base_environment": "",
    "environment_version": "2"
   },
   "inputWidgetPreferences": null,
   "language": "python",
   "notebookMetadata": {
    "pythonIndentUnit": 4
   },
   "notebookName": "Variables",
   "widgets": {}
  },
  "language_info": {
   "name": "python"
  }
 },
 "nbformat": 4,
 "nbformat_minor": 0
}